{
 "cells": [
  {
   "cell_type": "markdown",
   "metadata": {},
   "source": [
    "<h1 align=\"center\"><font></font>Prédiction d'un cross-selling en assurance</h1>\n",
    "\n",
    "- Analyse exploratoire\n",
    "- Feature engineering\n",
    "- Sélection du modèle\n",
    "- Modele Agnostic"
   ]
  },
  {
   "cell_type": "code",
   "execution_count": 5,
   "metadata": {},
   "outputs": [],
   "source": [
    "# Importation des librairies\n",
    "import numpy as np\n",
    "import pandas as pd\n",
    "import seaborn as sns\n",
    "import lightgbm as lgb\n",
    "import matplotlib.pyplot as plt\n",
    "from imblearn.over_sampling import SMOTE\n",
    "from scipy.stats.mstats import winsorize\n",
    "from sklearn.model_selection import GridSearchCV\n",
    "from sklearn.linear_model import  LogisticRegression\n",
    "from sklearn.metrics import classification_report, f1_score\n",
    "from sklearn.preprocessing import StandardScaler, MinMaxScaler, RobustScaler\n",
    "from sklearn.model_selection import train_test_split, cross_val_score, StratifiedKFold\n",
    "\n",
    "import warnings\n",
    "warnings.filterwarnings(\"ignore\", \".*do not.*\",)"
   ]
  },
  {
   "cell_type": "markdown",
   "metadata": {},
   "source": [
    "# **Analyse exploratoire**"
   ]
  },
  {
   "cell_type": "markdown",
   "metadata": {},
   "source": [
    "## Importation des données   "
   ]
  },
  {
   "cell_type": "code",
   "execution_count": 6,
   "metadata": {},
   "outputs": [],
   "source": [
    "# Nous subdiviserons la base de donnée en deux sous bases\n",
    "# d'entrainement et de validation. 80% des données seront \n",
    "# des données d'entrainement et 15% des données de test.\n",
    "# Dans la suite, nous subidiviserons la base de donnée \n",
    "# d'entrainement en base d'entrainement et de validation \n",
    "# L'argument shuffle permet d'effectuer l'échantillonnage \n",
    "# sur une base probabiliste.  \n",
    "# Nous utilisons np.random.seed(1234) afin d'assurer la \n",
    "# reproductibilité de nos résultats. \n",
    "train_set = pd.read_csv(\"./files/groupe_2_train.csv\")"
   ]
  },
  {
   "cell_type": "markdown",
   "metadata": {},
   "source": [
    "## Exploration des données"
   ]
  },
  {
   "cell_type": "markdown",
   "metadata": {},
   "source": [
    "### Data Understanding"
   ]
  },
  {
   "cell_type": "code",
   "execution_count": 3,
   "metadata": {},
   "outputs": [
    {
     "data": {
      "text/plain": [
       "(84027, 11)"
      ]
     },
     "execution_count": 3,
     "metadata": {},
     "output_type": "execute_result"
    }
   ],
   "source": [
    "# Affichage des dimensions du \n",
    "# dataset\n",
    "train_set.shape"
   ]
  },
  {
   "cell_type": "code",
   "execution_count": 4,
   "metadata": {},
   "outputs": [
    {
     "data": {
      "text/html": [
       "<div>\n",
       "<style scoped>\n",
       "    .dataframe tbody tr th:only-of-type {\n",
       "        vertical-align: middle;\n",
       "    }\n",
       "\n",
       "    .dataframe tbody tr th {\n",
       "        vertical-align: top;\n",
       "    }\n",
       "\n",
       "    .dataframe thead th {\n",
       "        text-align: right;\n",
       "    }\n",
       "</style>\n",
       "<table border=\"1\" class=\"dataframe\">\n",
       "  <thead>\n",
       "    <tr style=\"text-align: right;\">\n",
       "      <th></th>\n",
       "      <th>Gender</th>\n",
       "      <th>Age</th>\n",
       "      <th>Driving_License</th>\n",
       "      <th>Region_Code</th>\n",
       "      <th>Previously_Insured</th>\n",
       "      <th>Vehicle_Age</th>\n",
       "      <th>Vehicle_Damage</th>\n",
       "      <th>Annual_Premium</th>\n",
       "      <th>Policy_Sales_Channel</th>\n",
       "      <th>Vintage</th>\n",
       "      <th>Response</th>\n",
       "    </tr>\n",
       "  </thead>\n",
       "  <tbody>\n",
       "    <tr>\n",
       "      <th>0</th>\n",
       "      <td>Female</td>\n",
       "      <td>23</td>\n",
       "      <td>1</td>\n",
       "      <td>29</td>\n",
       "      <td>1</td>\n",
       "      <td>&lt; 1 Year</td>\n",
       "      <td>No</td>\n",
       "      <td>36839</td>\n",
       "      <td>152</td>\n",
       "      <td>43</td>\n",
       "      <td>0</td>\n",
       "    </tr>\n",
       "    <tr>\n",
       "      <th>1</th>\n",
       "      <td>Male</td>\n",
       "      <td>22</td>\n",
       "      <td>1</td>\n",
       "      <td>15</td>\n",
       "      <td>1</td>\n",
       "      <td>&lt; 1 Year</td>\n",
       "      <td>No</td>\n",
       "      <td>50566</td>\n",
       "      <td>152</td>\n",
       "      <td>294</td>\n",
       "      <td>0</td>\n",
       "    </tr>\n",
       "    <tr>\n",
       "      <th>2</th>\n",
       "      <td>Male</td>\n",
       "      <td>46</td>\n",
       "      <td>1</td>\n",
       "      <td>7</td>\n",
       "      <td>1</td>\n",
       "      <td>1-2 Year</td>\n",
       "      <td>No</td>\n",
       "      <td>2630</td>\n",
       "      <td>26</td>\n",
       "      <td>199</td>\n",
       "      <td>0</td>\n",
       "    </tr>\n",
       "    <tr>\n",
       "      <th>3</th>\n",
       "      <td>Male</td>\n",
       "      <td>32</td>\n",
       "      <td>1</td>\n",
       "      <td>28</td>\n",
       "      <td>0</td>\n",
       "      <td>&lt; 1 Year</td>\n",
       "      <td>Yes</td>\n",
       "      <td>31255</td>\n",
       "      <td>152</td>\n",
       "      <td>229</td>\n",
       "      <td>0</td>\n",
       "    </tr>\n",
       "    <tr>\n",
       "      <th>4</th>\n",
       "      <td>Female</td>\n",
       "      <td>27</td>\n",
       "      <td>1</td>\n",
       "      <td>41</td>\n",
       "      <td>1</td>\n",
       "      <td>&lt; 1 Year</td>\n",
       "      <td>No</td>\n",
       "      <td>30722</td>\n",
       "      <td>152</td>\n",
       "      <td>113</td>\n",
       "      <td>0</td>\n",
       "    </tr>\n",
       "  </tbody>\n",
       "</table>\n",
       "</div>"
      ],
      "text/plain": [
       "   Gender  Age  Driving_License  Region_Code  Previously_Insured Vehicle_Age  \\\n",
       "0  Female   23                1           29                   1    < 1 Year   \n",
       "1    Male   22                1           15                   1    < 1 Year   \n",
       "2    Male   46                1            7                   1    1-2 Year   \n",
       "3    Male   32                1           28                   0    < 1 Year   \n",
       "4  Female   27                1           41                   1    < 1 Year   \n",
       "\n",
       "  Vehicle_Damage  Annual_Premium  Policy_Sales_Channel  Vintage  Response  \n",
       "0             No           36839                   152       43         0  \n",
       "1             No           50566                   152      294         0  \n",
       "2             No            2630                    26      199         0  \n",
       "3            Yes           31255                   152      229         0  \n",
       "4             No           30722                   152      113         0  "
      ]
     },
     "execution_count": 4,
     "metadata": {},
     "output_type": "execute_result"
    }
   ],
   "source": [
    "# Affichage de quelques observations\n",
    "# de la base de donnée d'entraînement\n",
    "train_set.head()"
   ]
  },
  {
   "cell_type": "code",
   "execution_count": 5,
   "metadata": {},
   "outputs": [
    {
     "name": "stdout",
     "output_type": "stream",
     "text": [
      "<class 'pandas.core.frame.DataFrame'>\n",
      "RangeIndex: 84027 entries, 0 to 84026\n",
      "Data columns (total 11 columns):\n",
      " #   Column                Non-Null Count  Dtype \n",
      "---  ------                --------------  ----- \n",
      " 0   Gender                84027 non-null  object\n",
      " 1   Age                   84027 non-null  int64 \n",
      " 2   Driving_License       84027 non-null  int64 \n",
      " 3   Region_Code           84027 non-null  int64 \n",
      " 4   Previously_Insured    84027 non-null  int64 \n",
      " 5   Vehicle_Age           84027 non-null  object\n",
      " 6   Vehicle_Damage        84027 non-null  object\n",
      " 7   Annual_Premium        84027 non-null  int64 \n",
      " 8   Policy_Sales_Channel  84027 non-null  int64 \n",
      " 9   Vintage               84027 non-null  int64 \n",
      " 10  Response              84027 non-null  int64 \n",
      "dtypes: int64(8), object(3)\n",
      "memory usage: 7.1+ MB\n"
     ]
    }
   ],
   "source": [
    "# Overview sur les types de variable\n",
    "train_set.info()"
   ]
  },
  {
   "cell_type": "code",
   "execution_count": 6,
   "metadata": {},
   "outputs": [
    {
     "data": {
      "text/html": [
       "<div>\n",
       "<style scoped>\n",
       "    .dataframe tbody tr th:only-of-type {\n",
       "        vertical-align: middle;\n",
       "    }\n",
       "\n",
       "    .dataframe tbody tr th {\n",
       "        vertical-align: top;\n",
       "    }\n",
       "\n",
       "    .dataframe thead th {\n",
       "        text-align: right;\n",
       "    }\n",
       "</style>\n",
       "<table border=\"1\" class=\"dataframe\">\n",
       "  <thead>\n",
       "    <tr style=\"text-align: right;\">\n",
       "      <th></th>\n",
       "      <th>Gender</th>\n",
       "      <th>Vehicle_Age</th>\n",
       "      <th>Vehicle_Damage</th>\n",
       "    </tr>\n",
       "  </thead>\n",
       "  <tbody>\n",
       "    <tr>\n",
       "      <th>count</th>\n",
       "      <td>84027</td>\n",
       "      <td>84027</td>\n",
       "      <td>84027</td>\n",
       "    </tr>\n",
       "    <tr>\n",
       "      <th>unique</th>\n",
       "      <td>2</td>\n",
       "      <td>3</td>\n",
       "      <td>2</td>\n",
       "    </tr>\n",
       "    <tr>\n",
       "      <th>top</th>\n",
       "      <td>Male</td>\n",
       "      <td>1-2 Year</td>\n",
       "      <td>Yes</td>\n",
       "    </tr>\n",
       "    <tr>\n",
       "      <th>freq</th>\n",
       "      <td>46316</td>\n",
       "      <td>46992</td>\n",
       "      <td>48704</td>\n",
       "    </tr>\n",
       "  </tbody>\n",
       "</table>\n",
       "</div>"
      ],
      "text/plain": [
       "       Gender Vehicle_Age Vehicle_Damage\n",
       "count   84027       84027          84027\n",
       "unique      2           3              2\n",
       "top      Male    1-2 Year            Yes\n",
       "freq    46316       46992          48704"
      ]
     },
     "execution_count": 6,
     "metadata": {},
     "output_type": "execute_result"
    }
   ],
   "source": [
    "# Description sommaire des variables\n",
    "# qualitatives de la base\n",
    "train_set.describe(include=\"O\")"
   ]
  },
  {
   "cell_type": "code",
   "execution_count": 7,
   "metadata": {},
   "outputs": [
    {
     "data": {
      "text/html": [
       "<div>\n",
       "<style scoped>\n",
       "    .dataframe tbody tr th:only-of-type {\n",
       "        vertical-align: middle;\n",
       "    }\n",
       "\n",
       "    .dataframe tbody tr th {\n",
       "        vertical-align: top;\n",
       "    }\n",
       "\n",
       "    .dataframe thead th {\n",
       "        text-align: right;\n",
       "    }\n",
       "</style>\n",
       "<table border=\"1\" class=\"dataframe\">\n",
       "  <thead>\n",
       "    <tr style=\"text-align: right;\">\n",
       "      <th></th>\n",
       "      <th>Age</th>\n",
       "      <th>Driving_License</th>\n",
       "      <th>Region_Code</th>\n",
       "      <th>Previously_Insured</th>\n",
       "      <th>Annual_Premium</th>\n",
       "      <th>Policy_Sales_Channel</th>\n",
       "      <th>Vintage</th>\n",
       "      <th>Response</th>\n",
       "    </tr>\n",
       "  </thead>\n",
       "  <tbody>\n",
       "    <tr>\n",
       "      <th>count</th>\n",
       "      <td>84027.000000</td>\n",
       "      <td>84027.000000</td>\n",
       "      <td>84027.000000</td>\n",
       "      <td>84027.000000</td>\n",
       "      <td>84027.000000</td>\n",
       "      <td>84027.000000</td>\n",
       "      <td>84027.000000</td>\n",
       "      <td>84027.000000</td>\n",
       "    </tr>\n",
       "    <tr>\n",
       "      <th>mean</th>\n",
       "      <td>40.141669</td>\n",
       "      <td>0.997917</td>\n",
       "      <td>26.441608</td>\n",
       "      <td>0.386697</td>\n",
       "      <td>30749.681388</td>\n",
       "      <td>109.203994</td>\n",
       "      <td>168.643567</td>\n",
       "      <td>0.257858</td>\n",
       "    </tr>\n",
       "    <tr>\n",
       "      <th>std</th>\n",
       "      <td>16.443320</td>\n",
       "      <td>0.045589</td>\n",
       "      <td>13.030719</td>\n",
       "      <td>0.486996</td>\n",
       "      <td>17633.575685</td>\n",
       "      <td>54.872813</td>\n",
       "      <td>213.169257</td>\n",
       "      <td>0.437458</td>\n",
       "    </tr>\n",
       "    <tr>\n",
       "      <th>min</th>\n",
       "      <td>20.000000</td>\n",
       "      <td>0.000000</td>\n",
       "      <td>0.000000</td>\n",
       "      <td>0.000000</td>\n",
       "      <td>2630.000000</td>\n",
       "      <td>1.000000</td>\n",
       "      <td>10.000000</td>\n",
       "      <td>0.000000</td>\n",
       "    </tr>\n",
       "    <tr>\n",
       "      <th>25%</th>\n",
       "      <td>25.000000</td>\n",
       "      <td>1.000000</td>\n",
       "      <td>15.000000</td>\n",
       "      <td>0.000000</td>\n",
       "      <td>24433.000000</td>\n",
       "      <td>26.000000</td>\n",
       "      <td>82.000000</td>\n",
       "      <td>0.000000</td>\n",
       "    </tr>\n",
       "    <tr>\n",
       "      <th>50%</th>\n",
       "      <td>39.000000</td>\n",
       "      <td>1.000000</td>\n",
       "      <td>28.000000</td>\n",
       "      <td>0.000000</td>\n",
       "      <td>31856.000000</td>\n",
       "      <td>124.000000</td>\n",
       "      <td>154.000000</td>\n",
       "      <td>0.000000</td>\n",
       "    </tr>\n",
       "    <tr>\n",
       "      <th>75%</th>\n",
       "      <td>50.000000</td>\n",
       "      <td>1.000000</td>\n",
       "      <td>35.000000</td>\n",
       "      <td>1.000000</td>\n",
       "      <td>39738.000000</td>\n",
       "      <td>152.000000</td>\n",
       "      <td>228.000000</td>\n",
       "      <td>1.000000</td>\n",
       "    </tr>\n",
       "    <tr>\n",
       "      <th>max</th>\n",
       "      <td>157.000000</td>\n",
       "      <td>1.000000</td>\n",
       "      <td>52.000000</td>\n",
       "      <td>1.000000</td>\n",
       "      <td>540165.000000</td>\n",
       "      <td>163.000000</td>\n",
       "      <td>5980.000000</td>\n",
       "      <td>1.000000</td>\n",
       "    </tr>\n",
       "  </tbody>\n",
       "</table>\n",
       "</div>"
      ],
      "text/plain": [
       "                Age  Driving_License   Region_Code  Previously_Insured  \\\n",
       "count  84027.000000     84027.000000  84027.000000        84027.000000   \n",
       "mean      40.141669         0.997917     26.441608            0.386697   \n",
       "std       16.443320         0.045589     13.030719            0.486996   \n",
       "min       20.000000         0.000000      0.000000            0.000000   \n",
       "25%       25.000000         1.000000     15.000000            0.000000   \n",
       "50%       39.000000         1.000000     28.000000            0.000000   \n",
       "75%       50.000000         1.000000     35.000000            1.000000   \n",
       "max      157.000000         1.000000     52.000000            1.000000   \n",
       "\n",
       "       Annual_Premium  Policy_Sales_Channel       Vintage      Response  \n",
       "count    84027.000000          84027.000000  84027.000000  84027.000000  \n",
       "mean     30749.681388            109.203994    168.643567      0.257858  \n",
       "std      17633.575685             54.872813    213.169257      0.437458  \n",
       "min       2630.000000              1.000000     10.000000      0.000000  \n",
       "25%      24433.000000             26.000000     82.000000      0.000000  \n",
       "50%      31856.000000            124.000000    154.000000      0.000000  \n",
       "75%      39738.000000            152.000000    228.000000      1.000000  \n",
       "max     540165.000000            163.000000   5980.000000      1.000000  "
      ]
     },
     "execution_count": 7,
     "metadata": {},
     "output_type": "execute_result"
    }
   ],
   "source": [
    "# Description sommaire des variables\n",
    "# quantitatives de la base\n",
    "train_set.describe()"
   ]
  },
  {
   "cell_type": "markdown",
   "metadata": {},
   "source": [
    "### Data Cleaning"
   ]
  },
  {
   "cell_type": "code",
   "execution_count": 8,
   "metadata": {},
   "outputs": [
    {
     "data": {
      "text/html": [
       "<div>\n",
       "<style scoped>\n",
       "    .dataframe tbody tr th:only-of-type {\n",
       "        vertical-align: middle;\n",
       "    }\n",
       "\n",
       "    .dataframe tbody tr th {\n",
       "        vertical-align: top;\n",
       "    }\n",
       "\n",
       "    .dataframe thead th {\n",
       "        text-align: right;\n",
       "    }\n",
       "</style>\n",
       "<table border=\"1\" class=\"dataframe\">\n",
       "  <thead>\n",
       "    <tr style=\"text-align: right;\">\n",
       "      <th></th>\n",
       "      <th>Gender</th>\n",
       "      <th>Age</th>\n",
       "      <th>Driving_License</th>\n",
       "      <th>Region_Code</th>\n",
       "      <th>Previously_Insured</th>\n",
       "      <th>Vehicle_Age</th>\n",
       "      <th>Vehicle_Damage</th>\n",
       "      <th>Annual_Premium</th>\n",
       "      <th>Policy_Sales_Channel</th>\n",
       "      <th>Vintage</th>\n",
       "      <th>Response</th>\n",
       "    </tr>\n",
       "  </thead>\n",
       "  <tbody>\n",
       "    <tr>\n",
       "      <th>26691</th>\n",
       "      <td>Male</td>\n",
       "      <td>34</td>\n",
       "      <td>1</td>\n",
       "      <td>12</td>\n",
       "      <td>0</td>\n",
       "      <td>1-2 Year</td>\n",
       "      <td>Yes</td>\n",
       "      <td>2630</td>\n",
       "      <td>157</td>\n",
       "      <td>284</td>\n",
       "      <td>1</td>\n",
       "    </tr>\n",
       "    <tr>\n",
       "      <th>43392</th>\n",
       "      <td>Male</td>\n",
       "      <td>43</td>\n",
       "      <td>1</td>\n",
       "      <td>28</td>\n",
       "      <td>0</td>\n",
       "      <td>1-2 Year</td>\n",
       "      <td>Yes</td>\n",
       "      <td>2630</td>\n",
       "      <td>26</td>\n",
       "      <td>299</td>\n",
       "      <td>0</td>\n",
       "    </tr>\n",
       "    <tr>\n",
       "      <th>47968</th>\n",
       "      <td>Female</td>\n",
       "      <td>36</td>\n",
       "      <td>1</td>\n",
       "      <td>28</td>\n",
       "      <td>0</td>\n",
       "      <td>1-2 Year</td>\n",
       "      <td>Yes</td>\n",
       "      <td>2630</td>\n",
       "      <td>124</td>\n",
       "      <td>145</td>\n",
       "      <td>1</td>\n",
       "    </tr>\n",
       "    <tr>\n",
       "      <th>50010</th>\n",
       "      <td>Female</td>\n",
       "      <td>38</td>\n",
       "      <td>1</td>\n",
       "      <td>13</td>\n",
       "      <td>0</td>\n",
       "      <td>1-2 Year</td>\n",
       "      <td>Yes</td>\n",
       "      <td>2630</td>\n",
       "      <td>124</td>\n",
       "      <td>220</td>\n",
       "      <td>1</td>\n",
       "    </tr>\n",
       "    <tr>\n",
       "      <th>55728</th>\n",
       "      <td>Male</td>\n",
       "      <td>40</td>\n",
       "      <td>1</td>\n",
       "      <td>35</td>\n",
       "      <td>0</td>\n",
       "      <td>1-2 Year</td>\n",
       "      <td>Yes</td>\n",
       "      <td>2630</td>\n",
       "      <td>124</td>\n",
       "      <td>194</td>\n",
       "      <td>0</td>\n",
       "    </tr>\n",
       "    <tr>\n",
       "      <th>56055</th>\n",
       "      <td>Male</td>\n",
       "      <td>43</td>\n",
       "      <td>1</td>\n",
       "      <td>15</td>\n",
       "      <td>0</td>\n",
       "      <td>1-2 Year</td>\n",
       "      <td>Yes</td>\n",
       "      <td>2630</td>\n",
       "      <td>124</td>\n",
       "      <td>262</td>\n",
       "      <td>1</td>\n",
       "    </tr>\n",
       "    <tr>\n",
       "      <th>61217</th>\n",
       "      <td>Female</td>\n",
       "      <td>24</td>\n",
       "      <td>1</td>\n",
       "      <td>27</td>\n",
       "      <td>0</td>\n",
       "      <td>&lt; 1 Year</td>\n",
       "      <td>Yes</td>\n",
       "      <td>2630</td>\n",
       "      <td>152</td>\n",
       "      <td>213</td>\n",
       "      <td>0</td>\n",
       "    </tr>\n",
       "    <tr>\n",
       "      <th>62508</th>\n",
       "      <td>Female</td>\n",
       "      <td>42</td>\n",
       "      <td>1</td>\n",
       "      <td>28</td>\n",
       "      <td>0</td>\n",
       "      <td>1-2 Year</td>\n",
       "      <td>Yes</td>\n",
       "      <td>2630</td>\n",
       "      <td>26</td>\n",
       "      <td>150</td>\n",
       "      <td>1</td>\n",
       "    </tr>\n",
       "    <tr>\n",
       "      <th>73146</th>\n",
       "      <td>Female</td>\n",
       "      <td>26</td>\n",
       "      <td>1</td>\n",
       "      <td>29</td>\n",
       "      <td>1</td>\n",
       "      <td>&lt; 1 Year</td>\n",
       "      <td>No</td>\n",
       "      <td>2630</td>\n",
       "      <td>152</td>\n",
       "      <td>56</td>\n",
       "      <td>0</td>\n",
       "    </tr>\n",
       "    <tr>\n",
       "      <th>73174</th>\n",
       "      <td>Female</td>\n",
       "      <td>44</td>\n",
       "      <td>1</td>\n",
       "      <td>28</td>\n",
       "      <td>0</td>\n",
       "      <td>1-2 Year</td>\n",
       "      <td>Yes</td>\n",
       "      <td>2630</td>\n",
       "      <td>26</td>\n",
       "      <td>89</td>\n",
       "      <td>1</td>\n",
       "    </tr>\n",
       "    <tr>\n",
       "      <th>82143</th>\n",
       "      <td>Male</td>\n",
       "      <td>45</td>\n",
       "      <td>1</td>\n",
       "      <td>28</td>\n",
       "      <td>0</td>\n",
       "      <td>1-2 Year</td>\n",
       "      <td>Yes</td>\n",
       "      <td>2630</td>\n",
       "      <td>26</td>\n",
       "      <td>209</td>\n",
       "      <td>1</td>\n",
       "    </tr>\n",
       "  </tbody>\n",
       "</table>\n",
       "</div>"
      ],
      "text/plain": [
       "       Gender  Age  Driving_License  Region_Code  Previously_Insured  \\\n",
       "26691    Male   34                1           12                   0   \n",
       "43392    Male   43                1           28                   0   \n",
       "47968  Female   36                1           28                   0   \n",
       "50010  Female   38                1           13                   0   \n",
       "55728    Male   40                1           35                   0   \n",
       "56055    Male   43                1           15                   0   \n",
       "61217  Female   24                1           27                   0   \n",
       "62508  Female   42                1           28                   0   \n",
       "73146  Female   26                1           29                   1   \n",
       "73174  Female   44                1           28                   0   \n",
       "82143    Male   45                1           28                   0   \n",
       "\n",
       "      Vehicle_Age Vehicle_Damage  Annual_Premium  Policy_Sales_Channel  \\\n",
       "26691    1-2 Year            Yes            2630                   157   \n",
       "43392    1-2 Year            Yes            2630                    26   \n",
       "47968    1-2 Year            Yes            2630                   124   \n",
       "50010    1-2 Year            Yes            2630                   124   \n",
       "55728    1-2 Year            Yes            2630                   124   \n",
       "56055    1-2 Year            Yes            2630                   124   \n",
       "61217    < 1 Year            Yes            2630                   152   \n",
       "62508    1-2 Year            Yes            2630                    26   \n",
       "73146    < 1 Year             No            2630                   152   \n",
       "73174    1-2 Year            Yes            2630                    26   \n",
       "82143    1-2 Year            Yes            2630                    26   \n",
       "\n",
       "       Vintage  Response  \n",
       "26691      284         1  \n",
       "43392      299         0  \n",
       "47968      145         1  \n",
       "50010      220         1  \n",
       "55728      194         0  \n",
       "56055      262         1  \n",
       "61217      213         0  \n",
       "62508      150         1  \n",
       "73146       56         0  \n",
       "73174       89         1  \n",
       "82143      209         1  "
      ]
     },
     "execution_count": 8,
     "metadata": {},
     "output_type": "execute_result"
    }
   ],
   "source": [
    "# Détermination des doublons de \n",
    "# la base de donnée d'entrainement\n",
    "train_set[train_set.duplicated(keep=\"first\")]"
   ]
  },
  {
   "cell_type": "code",
   "execution_count": 9,
   "metadata": {},
   "outputs": [],
   "source": [
    "# Suppression des doublons de la base de données\n",
    "# Nous spécifions de ne retenir que la première\n",
    "# observation en cas de doublons.\n",
    "train_set.drop_duplicates(keep=\"first\", inplace=True)"
   ]
  },
  {
   "cell_type": "markdown",
   "metadata": {},
   "source": [
    "### Data Visualization"
   ]
  },
  {
   "cell_type": "markdown",
   "metadata": {},
   "source": [
    "#### Analyse univariée"
   ]
  },
  {
   "cell_type": "code",
   "execution_count": 10,
   "metadata": {},
   "outputs": [
    {
     "name": "stderr",
     "output_type": "stream",
     "text": [
      "/home/koffie/anaconda3/lib/python3.9/site-packages/seaborn/_decorators.py:36: FutureWarning: Pass the following variable as a keyword arg: x. From version 0.12, the only valid positional argument will be `data`, and passing other arguments without an explicit keyword will result in an error or misinterpretation.\n",
      "  warnings.warn(\n"
     ]
    },
    {
     "data": {
      "image/png": "[encoded data removed]",
      "text/plain": [
       "<Figure size 432x288 with 1 Axes>"
      ]
     },
     "metadata": {
      "needs_background": "light"
     },
     "output_type": "display_data"
    }
   ],
   "source": [
    "# Analyse univariée de la variable d'intérêt.\n",
    "sns.countplot(\"Response\", data=train_set, palette=\"Set1\")\n",
    "plt.show()"
   ]
  },
  {
   "cell_type": "code",
   "execution_count": 11,
   "metadata": {},
   "outputs": [],
   "source": [
    "# On remarque qu'il y'a une faible proportion\n",
    "# d'individus intéressés par l'assurance auto\n",
    "# par rapport aux individus non-intéressés.\n",
    "# La distribution selon le genre de la base\n",
    "# n'est pas très inégalement répartie"
   ]
  },
  {
   "cell_type": "code",
   "execution_count": 12,
   "metadata": {},
   "outputs": [
    {
     "name": "stderr",
     "output_type": "stream",
     "text": [
      "/home/koffie/anaconda3/lib/python3.9/site-packages/seaborn/_decorators.py:36: FutureWarning: Pass the following variable as a keyword arg: x. From version 0.12, the only valid positional argument will be `data`, and passing other arguments without an explicit keyword will result in an error or misinterpretation.\n",
      "  warnings.warn(\n"
     ]
    },
    {
     "data": {
      "image/png": "[encoded data removed]",
      "text/plain": [
       "<Figure size 432x288 with 1 Axes>"
      ]
     },
     "metadata": {
      "needs_background": "light"
     },
     "output_type": "display_data"
    }
   ],
   "source": [
    "# Analyse univariée de la variable Gender.\n",
    "sns.countplot(\"Gender\", data=train_set, palette=\"Set2\")\n",
    "plt.show()\n",
    "# Ainsi, la base de donnée est largement dominée par les individus \n",
    "# ayant des véhicules d'age inférieur à 2 ans."
   ]
  },
  {
   "cell_type": "code",
   "execution_count": 13,
   "metadata": {},
   "outputs": [
    {
     "name": "stderr",
     "output_type": "stream",
     "text": [
      "/home/koffie/anaconda3/lib/python3.9/site-packages/seaborn/_decorators.py:36: FutureWarning: Pass the following variable as a keyword arg: x. From version 0.12, the only valid positional argument will be `data`, and passing other arguments without an explicit keyword will result in an error or misinterpretation.\n",
      "  warnings.warn(\n"
     ]
    },
    {
     "data": {
      "image/png": "[encoded data removed]",
      "text/plain": [
       "<Figure size 432x288 with 1 Axes>"
      ]
     },
     "metadata": {
      "needs_background": "light"
     },
     "output_type": "display_data"
    }
   ],
   "source": [
    "# Analyse univariée de la variable vehicle_Damage.\n",
    "sns.countplot(\"Vehicle_Damage\", data=train_set, palette=\"Set2\")\n",
    "plt.show()\n",
    "# Ainsi, la base de donnée est largement dominée par les individus \n",
    "# ayant des véhicules d'age inférieur à 2 ans."
   ]
  },
  {
   "cell_type": "code",
   "execution_count": 14,
   "metadata": {},
   "outputs": [
    {
     "name": "stderr",
     "output_type": "stream",
     "text": [
      "/home/koffie/anaconda3/lib/python3.9/site-packages/seaborn/_decorators.py:36: FutureWarning: Pass the following variable as a keyword arg: x. From version 0.12, the only valid positional argument will be `data`, and passing other arguments without an explicit keyword will result in an error or misinterpretation.\n",
      "  warnings.warn(\n"
     ]
    },
    {
     "data": {
      "image/png": "[encoded data removed]",
      "text/plain": [
       "<Figure size 432x288 with 1 Axes>"
      ]
     },
     "metadata": {
      "needs_background": "light"
     },
     "output_type": "display_data"
    }
   ],
   "source": [
    "# Analyse univariée de la variable vehicle_Age.\n",
    "sns.countplot(\"Vehicle_Age\", data=train_set, palette=\"Set2\")\n",
    "plt.show()\n",
    "# Ainsi, la base de donnée est largement dominée par les individus \n",
    "# ayant des véhicules d'age inférieur à 2 ans."
   ]
  },
  {
   "cell_type": "code",
   "execution_count": 15,
   "metadata": {},
   "outputs": [
    {
     "name": "stderr",
     "output_type": "stream",
     "text": [
      "/home/koffie/anaconda3/lib/python3.9/site-packages/seaborn/_decorators.py:36: FutureWarning: Pass the following variable as a keyword arg: x. From version 0.12, the only valid positional argument will be `data`, and passing other arguments without an explicit keyword will result in an error or misinterpretation.\n",
      "  warnings.warn(\n"
     ]
    },
    {
     "data": {
      "image/png": "[encoded data removed]",
      "text/plain": [
       "<Figure size 432x288 with 1 Axes>"
      ]
     },
     "metadata": {
      "needs_background": "light"
     },
     "output_type": "display_data"
    }
   ],
   "source": [
    "# Analyse univariée de la variable Previously_Insured\n",
    "sns.countplot(\"Previously_Insured\", data=train_set, palette=\"Set2\")\n",
    "plt.show()\n",
    "# Ainsi, dans la base il y a plus d'individus sans assurance que\n",
    "# d'individus déja assurés"
   ]
  },
  {
   "cell_type": "code",
   "execution_count": 16,
   "metadata": {},
   "outputs": [
    {
     "name": "stderr",
     "output_type": "stream",
     "text": [
      "/home/koffie/anaconda3/lib/python3.9/site-packages/seaborn/_decorators.py:36: FutureWarning: Pass the following variable as a keyword arg: x. From version 0.12, the only valid positional argument will be `data`, and passing other arguments without an explicit keyword will result in an error or misinterpretation.\n",
      "  warnings.warn(\n"
     ]
    },
    {
     "data": {
      "image/png": "[encoded data removed]",
      "text/plain": [
       "<Figure size 432x288 with 1 Axes>"
      ]
     },
     "metadata": {
      "needs_background": "light"
     },
     "output_type": "display_data"
    }
   ],
   "source": [
    "# Analyse univariée de la variable Driving_License.\n",
    "sns.countplot(\"Driving_License\", data=train_set, palette=\"Set2\")\n",
    "plt.show()\n",
    "# On en déduit qu'il n'y a quasiment pas individu sans permis de conduire \n",
    "# dans la base de donnée."
   ]
  },
  {
   "cell_type": "code",
   "execution_count": 17,
   "metadata": {},
   "outputs": [
    {
     "data": {
      "text/plain": [
       "0.002082936583507903"
      ]
     },
     "execution_count": 17,
     "metadata": {},
     "output_type": "execute_result"
    }
   ],
   "source": [
    "## Affichage des individus n'ayant pas de permis\n",
    "## dans la base de donnée\n",
    "len(train_set[train_set.Driving_License==0])/len(train_set)\n",
    "## Par suite, il existe seulement 175/84027 individus\n",
    "## dans la base de donnée n'ayant pas de permis de \n",
    "## conduire, ce qui represente 0,2% de la polpulation\n",
    "## totale."
   ]
  },
  {
   "cell_type": "code",
   "execution_count": 18,
   "metadata": {},
   "outputs": [
    {
     "data": {
      "text/plain": [
       "<AxesSubplot:>"
      ]
     },
     "execution_count": 18,
     "metadata": {},
     "output_type": "execute_result"
    },
    {
     "data": {
      "image/png": "[encoded data removed]",
      "text/plain": [
       "<Figure size 1440x504 with 1 Axes>"
      ]
     },
     "metadata": {
      "needs_background": "light"
     },
     "output_type": "display_data"
    }
   ],
   "source": [
    "# Analyse univariée de la variable Policy Sales Channel.\n",
    "sales = train_set[\"Policy_Sales_Channel\"].value_counts()\n",
    "sales.plot(kind=\"bar\", figsize=(20, 7))"
   ]
  },
  {
   "cell_type": "code",
   "execution_count": 19,
   "metadata": {},
   "outputs": [],
   "source": [
    "\n",
    "train_set1 = train_set[\"Policy_Sales_Channel\"]\\\n",
    "    .apply(lambda x: 999 if x in sales[10:].index else x)"
   ]
  },
  {
   "cell_type": "code",
   "execution_count": 20,
   "metadata": {},
   "outputs": [
    {
     "data": {
      "text/plain": [
       "0.08228194629594363"
      ]
     },
     "execution_count": 20,
     "metadata": {},
     "output_type": "execute_result"
    }
   ],
   "source": [
    "sales[10:].sum()/sales.sum()"
   ]
  },
  {
   "cell_type": "code",
   "execution_count": 21,
   "metadata": {},
   "outputs": [
    {
     "data": {
      "text/plain": [
       "<AxesSubplot:>"
      ]
     },
     "execution_count": 21,
     "metadata": {},
     "output_type": "execute_result"
    },
    {
     "data": {
      "image/png": "[encoded data removed]",
      "text/plain": [
       "<Figure size 720x360 with 1 Axes>"
      ]
     },
     "metadata": {
      "needs_background": "light"
     },
     "output_type": "display_data"
    }
   ],
   "source": [
    "sales1 = train_set1.value_counts()\n",
    "sales1.plot(kind=\"bar\", figsize=(10, 5))"
   ]
  },
  {
   "cell_type": "code",
   "execution_count": 22,
   "metadata": {},
   "outputs": [
    {
     "data": {
      "text/plain": [
       "<AxesSubplot:>"
      ]
     },
     "execution_count": 22,
     "metadata": {},
     "output_type": "execute_result"
    },
    {
     "data": {
      "image/png": "[encoded data removed]",
      "text/plain": [
       "<Figure size 1440x504 with 1 Axes>"
      ]
     },
     "metadata": {
      "needs_background": "light"
     },
     "output_type": "display_data"
    }
   ],
   "source": [
    "# Analyse univariée de la variable Policy Sales Channel.\n",
    "region = train_set[\"Region_Code\"].value_counts()\n",
    "region.plot(kind=\"bar\", figsize=(20, 7))"
   ]
  },
  {
   "cell_type": "code",
   "execution_count": 23,
   "metadata": {},
   "outputs": [
    {
     "data": {
      "text/plain": [
       "0.09825509426775852"
      ]
     },
     "execution_count": 23,
     "metadata": {},
     "output_type": "execute_result"
    }
   ],
   "source": [
    "region[30:].sum()/region.sum()"
   ]
  },
  {
   "cell_type": "code",
   "execution_count": 24,
   "metadata": {},
   "outputs": [],
   "source": [
    "train_set2 = train_set[\"Region_Code\"]\\\n",
    "    .apply(lambda x: 888 if x in region[30:].index else x)"
   ]
  },
  {
   "cell_type": "code",
   "execution_count": 25,
   "metadata": {},
   "outputs": [
    {
     "data": {
      "text/plain": [
       "<AxesSubplot:>"
      ]
     },
     "execution_count": 25,
     "metadata": {},
     "output_type": "execute_result"
    },
    {
     "data": {
      "image/png": "[encoded data removed]",
      "text/plain": [
       "<Figure size 720x360 with 1 Axes>"
      ]
     },
     "metadata": {
      "needs_background": "light"
     },
     "output_type": "display_data"
    }
   ],
   "source": [
    "region1 = train_set2.value_counts()\n",
    "region1.plot(kind=\"bar\", figsize=(10, 5))"
   ]
  },
  {
   "cell_type": "code",
   "execution_count": 26,
   "metadata": {},
   "outputs": [
    {
     "name": "stderr",
     "output_type": "stream",
     "text": [
      "/home/koffie/anaconda3/lib/python3.9/site-packages/seaborn/_decorators.py:36: FutureWarning: Pass the following variable as a keyword arg: x. From version 0.12, the only valid positional argument will be `data`, and passing other arguments without an explicit keyword will result in an error or misinterpretation.\n",
      "  warnings.warn(\n"
     ]
    },
    {
     "data": {
      "image/png": "[encoded data removed]",
      "text/plain": [
       "<Figure size 720x432 with 1 Axes>"
      ]
     },
     "metadata": {
      "needs_background": "light"
     },
     "output_type": "display_data"
    }
   ],
   "source": [
    "# Analyse univariée de la variable Age\n",
    "plt.figure(figsize = (10,6))\n",
    "sns.boxplot(train_set.Age)\n",
    "plt.title('Distribution Age',size=18)\n",
    "plt.show()"
   ]
  },
  {
   "cell_type": "code",
   "execution_count": 27,
   "metadata": {},
   "outputs": [
    {
     "name": "stderr",
     "output_type": "stream",
     "text": [
      "/home/koffie/anaconda3/lib/python3.9/site-packages/seaborn/_decorators.py:36: FutureWarning: Pass the following variable as a keyword arg: x. From version 0.12, the only valid positional argument will be `data`, and passing other arguments without an explicit keyword will result in an error or misinterpretation.\n",
      "  warnings.warn(\n"
     ]
    },
    {
     "data": {
      "image/png": "[encoded data removed]",
      "text/plain": [
       "<Figure size 720x432 with 1 Axes>"
      ]
     },
     "metadata": {
      "needs_background": "light"
     },
     "output_type": "display_data"
    }
   ],
   "source": [
    "# Analyse univariée de la variable Annual_Premium\n",
    "plt.figure(figsize = (10,6))\n",
    "sns.boxplot(train_set.Annual_Premium)\n",
    "plt.title('Distribution Annual_Premium',size=18)\n",
    "plt.show()"
   ]
  },
  {
   "cell_type": "code",
   "execution_count": 28,
   "metadata": {},
   "outputs": [
    {
     "name": "stderr",
     "output_type": "stream",
     "text": [
      "/home/koffie/anaconda3/lib/python3.9/site-packages/seaborn/_decorators.py:36: FutureWarning: Pass the following variable as a keyword arg: x. From version 0.12, the only valid positional argument will be `data`, and passing other arguments without an explicit keyword will result in an error or misinterpretation.\n",
      "  warnings.warn(\n"
     ]
    },
    {
     "data": {
      "image/png": "[encoded data removed]",
      "text/plain": [
       "<Figure size 720x432 with 1 Axes>"
      ]
     },
     "metadata": {
      "needs_background": "light"
     },
     "output_type": "display_data"
    }
   ],
   "source": [
    "# Analyse univariée de la variable Vintage\n",
    "plt.figure(figsize = (10,6))\n",
    "sns.boxplot(train_set.Vintage)\n",
    "plt.title('Distribution Vintage',size=18)\n",
    "plt.show()"
   ]
  },
  {
   "cell_type": "markdown",
   "metadata": {},
   "source": [
    "#### Analyse multivariée"
   ]
  },
  {
   "cell_type": "code",
   "execution_count": 29,
   "metadata": {},
   "outputs": [
    {
     "data": {
      "image/png": "[encoded data removed]",
      "text/plain": [
       "<Figure size 432x216 with 2 Axes>"
      ]
     },
     "metadata": {
      "needs_background": "light"
     },
     "output_type": "display_data"
    }
   ],
   "source": [
    "# Analyse trivariée de la variable reponse en fonction de l'age\n",
    "# et du genre.\n",
    "bins = np.linspace(train_set.Age.min(), train_set.Age.max(), 10)\n",
    "g = sns.FacetGrid(train_set, col=\"Gender\", hue=\"Response\", palette=\"Set3\", col_wrap=2)\n",
    "g.map(plt.hist, 'Age', bins=bins, ec=\"k\")\n",
    "\n",
    "g.axes[-1].legend()\n",
    "plt.show()"
   ]
  },
  {
   "cell_type": "code",
   "execution_count": 30,
   "metadata": {},
   "outputs": [
    {
     "data": {
      "image/png": "[encoded data removed]",
      "text/plain": [
       "<Figure size 432x216 with 2 Axes>"
      ]
     },
     "metadata": {
      "needs_background": "light"
     },
     "output_type": "display_data"
    }
   ],
   "source": [
    "# Analyse trivariée de la variable réponse en fonction de l'age\n",
    "# et de Previously_Insured\n",
    "g = sns.FacetGrid(train_set, col=\"Previously_Insured\", hue=\"Response\", palette=\"Set2\", col_wrap=2)\n",
    "g.map(plt.hist, 'Age', bins=bins, ec=\"k\")\n",
    "\n",
    "g.axes[-1].legend()\n",
    "plt.show()"
   ]
  },
  {
   "cell_type": "code",
   "execution_count": 31,
   "metadata": {},
   "outputs": [
    {
     "data": {
      "image/png": "[encoded data removed]",
      "text/plain": [
       "<Figure size 432x216 with 2 Axes>"
      ]
     },
     "metadata": {
      "needs_background": "light"
     },
     "output_type": "display_data"
    }
   ],
   "source": [
    "# Analyse trivariée de la variable réponse en fonction de l'age\n",
    "# et de la variable Vehicle_Damage.\n",
    "g = sns.FacetGrid(train_set, col=\"Vehicle_Damage\", hue=\"Response\", palette=\"Set3\", col_wrap=2)\n",
    "g.map(plt.hist, 'Age', bins=bins, ec=\"k\")\n",
    "\n",
    "g.axes[-1].legend()\n",
    "plt.show()"
   ]
  },
  {
   "cell_type": "code",
   "execution_count": 32,
   "metadata": {},
   "outputs": [
    {
     "data": {
      "image/png": "[encoded data removed]",
      "text/plain": [
       "<Figure size 648x216 with 3 Axes>"
      ]
     },
     "metadata": {
      "needs_background": "light"
     },
     "output_type": "display_data"
    }
   ],
   "source": [
    "# Analyse trivariée de la variable réponse en fonction de \n",
    "# l'age et de la variable Vehicle_Age.\n",
    "bins = np.linspace(train_set.Age.min(), train_set.Age.max(), 10)\n",
    "g = sns.FacetGrid(train_set, col=\"Vehicle_Age\", hue=\"Response\", palette=\"Set3\", col_wrap=3)\n",
    "g.map(plt.hist, 'Age', bins=bins, ec=\"k\")\n",
    "\n",
    "g.axes[-1].legend()\n",
    "plt.show()"
   ]
  },
  {
   "cell_type": "code",
   "execution_count": 33,
   "metadata": {},
   "outputs": [
    {
     "data": {
      "image/png": "[encoded data removed]",
      "text/plain": [
       "<Figure size 720x720 with 2 Axes>"
      ]
     },
     "metadata": {
      "needs_background": "light"
     },
     "output_type": "display_data"
    }
   ],
   "source": [
    "# Analyse de la corrélation entre les différentes\n",
    "# variables quantitatives ainsi qu'avec la variable\n",
    "# d'intérêt\n",
    "var_quants = [\"Age\", \"Annual_Premium\", \"Vintage\"]\n",
    "plt.figure(figsize = (10,10))\n",
    "sns.heatmap(train_set[var_quants].corr(),annot=True,square=True,\n",
    "            cmap='RdBu',\n",
    "            vmax=1,\n",
    "            vmin=-1)\n",
    "plt.title('Correlations Between Variables',size=18);\n",
    "plt.xticks(size=13)\n",
    "plt.yticks(size=13)\n",
    "plt.show()"
   ]
  },
  {
   "cell_type": "code",
   "execution_count": 8,
   "metadata": {},
   "outputs": [],
   "source": [
    "var_quant = [\"Age\", \"Annual_Premium\", \"Vintage\", \"Response\"]\n",
    "sns.pairplot(train_set[var_quant], hue=\"Response\", kind=\"reg\")"
   ]
  },
  {
   "cell_type": "markdown",
   "metadata": {},
   "source": [
    "### Data Preprocessing"
   ]
  },
  {
   "cell_type": "code",
   "execution_count": 35,
   "metadata": {},
   "outputs": [],
   "source": [
    "## duplication de la base de donnée train\n",
    "train = train_set.copy()"
   ]
  },
  {
   "cell_type": "code",
   "execution_count": 36,
   "metadata": {},
   "outputs": [],
   "source": [
    "## Recodage de la variable Policy_Sales_Channel\n",
    "## Nous choisissons de regrouper tous les cannaux\n",
    "## faiblement representés ensemble.\n",
    "sales = train[\"Policy_Sales_Channel\"].value_counts()\n",
    "train[\"Policy_Sales_Channel\"] = train[\"Policy_Sales_Channel\"]\\\n",
    "    .apply(lambda x: 999 if x in sales[10:].index else x)"
   ]
  },
  {
   "cell_type": "code",
   "execution_count": 37,
   "metadata": {},
   "outputs": [],
   "source": [
    "## Recodage de la variable Region_Code\n",
    "## Nous choisissons encore de regrouper toutes\n",
    "## les régions faiblement représentée  ensemble.\n",
    "region = train[\"Region_Code\"].value_counts()\n",
    "train[\"Region_Code\"] = train[\"Region_Code\"]\\\n",
    "    .apply(lambda x: 888 if x in region[30:].index else x)"
   ]
  },
  {
   "cell_type": "code",
   "execution_count": 38,
   "metadata": {},
   "outputs": [],
   "source": [
    "## Recodage des variables Gender\n",
    "train[\"Gender\"] = train[\"Gender\"].replace({\"Male\":1, \"Female\":0})\n",
    "train[\"Vehicle_Damage\"] = train[\"Vehicle_Damage\"].replace({\"Yes\":1, \"No\":0})"
   ]
  },
  {
   "cell_type": "code",
   "execution_count": 39,
   "metadata": {},
   "outputs": [],
   "source": [
    "## One hot encoding sur les variables\n",
    "## catégorielles \n",
    "train= train.astype({\"Region_Code\":str})\n",
    "train = train.astype({\"Policy_Sales_Channel\": str})\n",
    "train = train.astype({\"Vehicle_Age\": str})\n",
    "train = pd.get_dummies(train)\n",
    "train = train.rename({\"Vehicle_Age_< 1 Year\": \"Vehicle_Age_Inf 1 Year\", \n",
    "                      \"Vehicle_Age_> 2 Years\" : \"Vehicle_Age_Sup 2 Years\"}, \n",
    "                      axis=1)"
   ]
  },
  {
   "cell_type": "code",
   "execution_count": 40,
   "metadata": {},
   "outputs": [],
   "source": [
    "## Traitement des outliers par winsorization\n",
    "train[var_quants] = train[var_quants].apply(lambda x: winsorize(x, limits=[.01, .028]))"
   ]
  },
  {
   "cell_type": "code",
   "execution_count": 41,
   "metadata": {},
   "outputs": [],
   "source": [
    "## Standardisation de la base de donnée \n",
    "for var in var_quants:\n",
    "    scale = StandardScaler()\n",
    "    train[var] = scale.fit_transform(train[[var]]) "
   ]
  },
  {
   "cell_type": "markdown",
   "metadata": {},
   "source": [
    "#### Feature Selection"
   ]
  },
  {
   "cell_type": "code",
   "execution_count": 43,
   "metadata": {},
   "outputs": [],
   "source": [
    "x_train, x_test, y_train, y_test = train_test_split(train.drop(\"Response\",axis=1),\n",
    "                                                    train[\"Response\"],\n",
    "                                                    train_size=.8,\n",
    "                                                    shuffle=True)"
   ]
  },
  {
   "cell_type": "markdown",
   "metadata": {
    "tags": []
   },
   "source": [
    "##### Training Without feature selection"
   ]
  },
  {
   "cell_type": "code",
   "execution_count": 122,
   "metadata": {},
   "outputs": [],
   "source": [
    "import xgboost as xgb\n",
    "import lightgbm as lgb\n",
    "from sklearn.svm import SVC\n",
    "from sklearn.linear_model import LogisticRegression\n",
    "from sklearn.ensemble import RandomForestClassifier"
   ]
  },
  {
   "cell_type": "code",
   "execution_count": 123,
   "metadata": {},
   "outputs": [
    {
     "name": "stderr",
     "output_type": "stream",
     "text": [
      "/home/koffie/anaconda3/lib/python3.9/site-packages/sklearn/linear_model/_logistic.py:444: ConvergenceWarning: lbfgs failed to converge (status=1):\n",
      "STOP: TOTAL NO. of ITERATIONS REACHED LIMIT.\n",
      "\n",
      "Increase the number of iterations (max_iter) or scale the data as shown in:\n",
      "    https://scikit-learn.org/stable/modules/preprocessing.html\n",
      "Please also refer to the documentation for alternative solver options:\n",
      "    https://scikit-learn.org/stable/modules/linear_model.html#logistic-regression\n",
      "  n_iter_i = _check_optimize_result(\n"
     ]
    },
    {
     "name": "stdout",
     "output_type": "stream",
     "text": [
      "logistic finished\n",
      "randomForest finished\n",
      "xgboost finished\n",
      "lightgbm finished\n"
     ]
    }
   ],
   "source": [
    "score = {}\n",
    "## Training logistic Regression\n",
    "model_log = LogisticRegression()\n",
    "model_log.fit(x_train, y_train)\n",
    "acc = f1_score(model_log.predict(x_test), y_test)\n",
    "score[\"log\"] = [acc,]\n",
    "print(\"logistic finished\")\n",
    "\n",
    "## Training RandomForest\n",
    "model_rf = RandomForestClassifier()\n",
    "model_rf.fit(x_train, y_train)\n",
    "acc = f1_score(model_rf.predict(x_test), y_test)\n",
    "score[\"rf\"] = [acc,]\n",
    "print(\"randomForest finished\")\n",
    "\n",
    "\n",
    "## Training XGBoost\n",
    "model_xgb = xgb.XGBClassifier()\n",
    "model_xgb.fit(x_train, y_train)\n",
    "acc = f1_score(model_xgb.predict(x_test), y_test)\n",
    "score[\"xgb\"] = [acc,]\n",
    "print(\"xgboost finished\")\n",
    "\n",
    "## Training LightGBM\n",
    "model_lgb = lgb.LGBMClassifier()\n",
    "model_lgb.fit(x_train, y_train)\n",
    "acc = f1_score(model_lgb.predict(x_test), y_test)\n",
    "score[\"lgb\"] = [acc,]\n",
    "print(\"lightgbm finished\")"
   ]
  },
  {
   "cell_type": "code",
   "execution_count": 124,
   "metadata": {},
   "outputs": [
    {
     "data": {
      "text/plain": [
       "<Figure size 360x360 with 0 Axes>"
      ]
     },
     "metadata": {},
     "output_type": "display_data"
    },
    {
     "data": {
      "image/png": "[encoded data removed]",
      "text/plain": [
       "<Figure size 360x360 with 1 Axes>"
      ]
     },
     "metadata": {
      "needs_background": "light"
     },
     "output_type": "display_data"
    },
    {
     "data": {
      "text/plain": [
       "<Figure size 360x360 with 0 Axes>"
      ]
     },
     "metadata": {},
     "output_type": "display_data"
    },
    {
     "data": {
      "image/png": "[encoded data removed]",
      "text/plain": [
       "<Figure size 360x360 with 1 Axes>"
      ]
     },
     "metadata": {
      "needs_background": "light"
     },
     "output_type": "display_data"
    }
   ],
   "source": [
    "## Plotting feature importance based on Xgboost\n",
    "## and LightGBM\n",
    "plt.figure(figsize=(5,5))\n",
    "xgb.plot_importance(model_xgb, max_num_features=15)\n",
    "plt.rcParams[\"figure.figsize\"] = (5,5)\n",
    "\n",
    "plt.figure(figsize=(5,5))\n",
    "lgb.plot_importance(model_lgb, max_num_features=15)\n",
    "plt.rcParams[\"figure.figsize\"] = (5,5)\n",
    "plt.show()"
   ]
  },
  {
   "cell_type": "markdown",
   "metadata": {},
   "source": [
    "##### Training with feature selection\n"
   ]
  },
  {
   "cell_type": "code",
   "execution_count": 131,
   "metadata": {},
   "outputs": [],
   "source": [
    "## La feature importance réalisée sur les modèles\n",
    "## de Random Forest  de Xgboost et de regression\n",
    "## logistique nous fournit les variables les plus\n",
    "## importantes suivantes : \n",
    "selected_features = [\"Age\", \"Annual_Premium\", \"Vintage\",\n",
    "                     \"Gender\", \"Policy_Sales_Channel_26\",\n",
    "                     \"Vehicle_Damage\", \"Policy_Sales_Channel_124\",\n",
    "                     \"Region_Code_28\", \"Vehicle_Age_1-2 Year\",\n",
    "                     \"Policy_Sales_Channel_152\", \"Region_Code_8\",\n",
    "                     \"Policy_Sales_Channel_999\", \"Policy_Sales_Channel_157\",\n",
    "                     \"Policy_Sales_Channel_154\", \"Policy_Sales_Channel_156\",\n",
    "                     \"Region_Code_46\", \"Previously_Insured\",\"Vehicle_Age_Sup 2 Years\",\n",
    "                     \"Policy_Sales_Channel_160\", \"Region_Code_888\", \"Response\"]\n",
    "\n",
    "train1 = train[selected_features]\n",
    "x_train, x_test, y_train, y_test = train_test_split(train1.drop(\"Response\",axis=1),\n",
    "                                                    train1[\"Response\"],\n",
    "                                                    train_size=.8,\n",
    "                                                    shuffle=True)\n"
   ]
  },
  {
   "cell_type": "code",
   "execution_count": 132,
   "metadata": {},
   "outputs": [
    {
     "name": "stdout",
     "output_type": "stream",
     "text": [
      "logistic finished\n",
      "randomForest finished\n",
      "xgboost finished\n",
      "lightgbm finished\n"
     ]
    }
   ],
   "source": [
    "## Training logistic Regression\n",
    "model_log = LogisticRegression()\n",
    "model_log.fit(x_train, y_train)\n",
    "acc = f1_score(model_log.predict(x_test), y_test)\n",
    "score[\"log\"].append(acc)\n",
    "print(\"logistic finished\")\n",
    "\n",
    "## Training RandomForest\n",
    "model_rf = RandomForestClassifier()\n",
    "model_rf.fit(x_train, y_train)\n",
    "acc = f1_score(model_rf.predict(x_test), y_test)\n",
    "score[\"rf\"].append(acc)\n",
    "print(\"randomForest finished\")\n",
    "\n",
    "\n",
    "## Training XGBoost\n",
    "model_xgb = xgb.XGBClassifier()\n",
    "model_xgb.fit(x_train, y_train)\n",
    "acc = f1_score(model_xgb.predict(x_test), y_test)\n",
    "score[\"xgb\"].append(acc)\n",
    "print(\"xgboost finished\")\n",
    "\n",
    "## Training LightGBM\n",
    "model_lgb = lgb.LGBMClassifier()\n",
    "model_lgb.fit(x_train, y_train)\n",
    "acc = f1_score(model_lgb.predict(x_test), y_test)\n",
    "score[\"lgb\"].append(acc)\n",
    "print(\"lightgbm finished\")"
   ]
  },
  {
   "cell_type": "code",
   "execution_count": 133,
   "metadata": {},
   "outputs": [],
   "source": [
    "score_df = pd.DataFrame()\n",
    "score_df[\"Model\"] = pd.DataFrame([\"logistic\", \"RF\", \"XGB\", \"LGB\"])\n",
    "score_df[\"without_FS\"] = pd.DataFrame([i[0] for j, i in score.items()])\n",
    "score_df[\"with_FS\"] = pd.DataFrame([i[2] for j, i in score.items()])\n",
    "score_df.set_index(\"Model\", inplace=True)"
   ]
  },
  {
   "cell_type": "code",
   "execution_count": 135,
   "metadata": {},
   "outputs": [
    {
     "data": {
      "text/plain": [
       "<AxesSubplot:xlabel='Model'>"
      ]
     },
     "execution_count": 135,
     "metadata": {},
     "output_type": "execute_result"
    },
    {
     "data": {
      "image/png": "[encoded data removed]",
      "text/plain": [
       "<Figure size 360x360 with 1 Axes>"
      ]
     },
     "metadata": {
      "needs_background": "light"
     },
     "output_type": "display_data"
    }
   ],
   "source": [
    "score_df.plot(kind=\"bar\")"
   ]
  },
  {
   "cell_type": "code",
   "execution_count": 10,
   "metadata": {},
   "outputs": [],
   "source": [
    "def preprocessing_df(train):\n",
    "    \"\"\"\n",
    "    Fonction permettant de faire le\n",
    "    préprocessing d'une base de donnée\n",
    "    en respectant toutes les étapes déjà\n",
    "    réalisées\n",
    "    \"\"\"\n",
    "\n",
    "    base_data = pd.read_csv(\"./files/groupe_2_train.csv\")\n",
    "    ## Regroupement des variables Region_Code\n",
    "    ## et Policy_Sales_Channel\n",
    "    sales = train[\"Policy_Sales_Channel\"].value_counts()\n",
    "    train[\"Policy_Sales_Channel\"] = train[\"Policy_Sales_Channel\"]\\\n",
    "        .apply(lambda x: 999 if x in sales[10:].index else x)\n",
    "    \n",
    "    region = train[\"Region_Code\"].value_counts()\n",
    "    train[\"Region_Code\"] = train[\"Region_Code\"]\\\n",
    "        .apply(lambda x: 888 if x in region[30:].index else x)\n",
    "    \n",
    "    ## Recodage de la variable Gender et Vehicle_Damage\n",
    "    train[\"Gender\"] = train[\"Gender\"].replace({\"Male\":1, \"Female\":0})\n",
    "    train[\"Vehicle_Damage\"] = train[\"Vehicle_Damage\"].replace({\"Yes\":1, \"No\":0})\n",
    "\n",
    "    ## One Hot Encoding des variables Vehicle_Age\n",
    "    ## Policy_Sales_Channel et Region_Code\n",
    "    train= train.astype({\"Region_Code\":str})\n",
    "    train = train.astype({\"Policy_Sales_Channel\": str})\n",
    "    train = train.astype({\"Vehicle_Age\": str})\n",
    "    train = pd.get_dummies(train)\n",
    "    train = train.rename({\"Vehicle_Age_< 1 Year\": \"Vehicle_Age_Inf 1 Year\", \n",
    "                          \"Vehicle_Age_> 2 Years\" : \"Vehicle_Age_Sup 2 Years\"}, \n",
    "                          axis=1)\n",
    "    \n",
    "    ## Traitement des outliers par winsorization\n",
    "    var_quants = [\"Age\", \"Annual_Premium\", \"Vintage\"]\n",
    "    train[var_quants] = train[var_quants]\\\n",
    "        .apply(lambda x: winsorize(x, limits=[.01, .02]))\n",
    "\n",
    "    ## Standardisation des variables quantitatives\n",
    "    scale1, scale2, scale3 = StandardScaler().fit(base_data[[\"Age\"]]),\\\n",
    "                             StandardScaler().fit(base_data[[\"Annual_Premium\"]]),\\\n",
    "                             StandardScaler().fit(base_data[[\"Vintage\"]])\n",
    "    \n",
    "    train[\"Age\"] = scale1.transform(train[[\"Age\"]])\n",
    "    train[\"Annual_Premium\"] = scale2.transform(train[[\"Annual_Premium\"]])\n",
    "    train[\"Vintage\"] = scale3.transform(train[[\"Vintage\"]]) \n",
    "\n",
    "    ## Réalisation de la feature selection\n",
    "    selected_features = [\"Age\", \"Annual_Premium\", \"Vintage\",\n",
    "                     \"Gender\", \"Policy_Sales_Channel_26\",\n",
    "                     \"Vehicle_Damage\", \"Policy_Sales_Channel_124\",\n",
    "                     \"Region_Code_28\", \"Vehicle_Age_1-2 Year\",\n",
    "                     \"Policy_Sales_Channel_152\", \"Region_Code_8\",\n",
    "                     \"Policy_Sales_Channel_999\", \"Policy_Sales_Channel_157\",\n",
    "                     \"Policy_Sales_Channel_154\", \"Policy_Sales_Channel_156\",\n",
    "                     \"Region_Code_46\", \"Previously_Insured\",\"Vehicle_Age_Sup 2 Years\",\n",
    "                     \"Policy_Sales_Channel_160\", \"Region_Code_888\", \"Response\"]\n",
    "    \n",
    "    train = train[selected_features]\n",
    "    \n",
    "    return train"
   ]
  },
  {
   "cell_type": "markdown",
   "metadata": {},
   "source": [
    "### Model Selection"
   ]
  },
  {
   "cell_type": "markdown",
   "metadata": {},
   "source": [
    "#### Choix du modèle"
   ]
  },
  {
   "cell_type": "code",
   "execution_count": 11,
   "metadata": {},
   "outputs": [],
   "source": [
    "## Importation de la base de donnée\n",
    "tuning = preprocessing_df(train_set)\n",
    "features = tuning.drop(\"Response\", axis=1)\n",
    "target = tuning[\"Response\"]"
   ]
  },
  {
   "cell_type": "code",
   "execution_count": 115,
   "metadata": {},
   "outputs": [],
   "source": [
    "n_splits = 20\n",
    "smote = SMOTE()\n",
    "folds = StratifiedKFold(n_splits=n_splits, shuffle=True)\n",
    "folds = list(folds.split(tuning.drop(\"Response\", axis=1), tuning[\"Response\"]))"
   ]
  },
  {
   "cell_type": "code",
   "execution_count": 116,
   "metadata": {
    "collapsed": true,
    "jupyter": {
     "outputs_hidden": true
    },
    "tags": []
   },
   "outputs": [
    {
     "ename": "NameError",
     "evalue": "name 'xgb' is not defined",
     "output_type": "error",
     "traceback": [
      "\u001b[0;31m---------------------------------------------------------------------------\u001b[0m",
      "\u001b[0;31mNameError\u001b[0m                                 Traceback (most recent call last)",
      "\u001b[1;32m/home/koffie/Documents/ISE2/projets/Data_Science/notebook_ds copy.ipynb Cell 68'\u001b[0m in \u001b[0;36m<cell line: 8>\u001b[0;34m()\u001b[0m\n\u001b[1;32m      <a href='vscode-notebook-cell:/home/koffie/Documents/ISE2/projets/Data_Science/notebook_ds%20copy.ipynb#ch0000086?line=5'>6</a>\u001b[0m compt \u001b[39m=\u001b[39m \u001b[39m1\u001b[39m\n\u001b[1;32m      <a href='vscode-notebook-cell:/home/koffie/Documents/ISE2/projets/Data_Science/notebook_ds%20copy.ipynb#ch0000086?line=6'>7</a>\u001b[0m model_log \u001b[39m=\u001b[39m LogisticRegression()\n\u001b[0;32m----> <a href='vscode-notebook-cell:/home/koffie/Documents/ISE2/projets/Data_Science/notebook_ds%20copy.ipynb#ch0000086?line=7'>8</a>\u001b[0m model_xgb \u001b[39m=\u001b[39m xgb\u001b[39m.\u001b[39mXGBClassifier()\n\u001b[1;32m      <a href='vscode-notebook-cell:/home/koffie/Documents/ISE2/projets/Data_Science/notebook_ds%20copy.ipynb#ch0000086?line=8'>9</a>\u001b[0m model_rf \u001b[39m=\u001b[39m RandomForestClassifier()\n\u001b[1;32m     <a href='vscode-notebook-cell:/home/koffie/Documents/ISE2/projets/Data_Science/notebook_ds%20copy.ipynb#ch0000086?line=9'>10</a>\u001b[0m model_lgb \u001b[39m=\u001b[39m lgb\u001b[39m.\u001b[39mLGBMClassifier()\n",
      "\u001b[0;31mNameError\u001b[0m: name 'xgb' is not defined"
     ]
    }
   ],
   "source": [
    "score_log = {}\n",
    "score_log[\"log\"] = []\n",
    "score_log[\"xgb\"] = []\n",
    "score_log[\"rf\"] = []\n",
    "score_log[\"lgb\"] = [] \n",
    "compt = 1\n",
    "model_log = LogisticRegression()\n",
    "model_xgb = xgb.XGBClassifier()\n",
    "model_rf = RandomForestClassifier()\n",
    "model_lgb = lgb.LGBMClassifier()\n",
    "for train, test in folds:\n",
    "    print(f\"{compt} debut\")\n",
    "\n",
    "    target_train, target_test = target.iloc[train], target.iloc[test]\n",
    "    features_train, features_test = features.iloc[train], features.iloc[test]\n",
    "\n",
    "    features_train, target_train = smote.fit_resample(features_train, target_train)\n",
    "    \n",
    "    model_log.fit(features_train, target_train)\n",
    "    print(\"log fin\")\n",
    "    model_xgb.fit(features_train, target_train)\n",
    "    print(\"xgb fin\")\n",
    "    model_rf.fit(features_train, target_train)\n",
    "    print(\"rf fin\")\n",
    "    model_lgb.fit(features_train, target_train)\n",
    "    print(\"lgb fin\")\n",
    "    \n",
    "    forecast_log1 = model_log.predict(features_test,)\n",
    "    forecast_log2 = model_xgb.predict(features_test,)\n",
    "    forecast_log3 = model_rf.predict(features_test,)\n",
    "    forecast_log4 = model_lgb.predict(features_test,)\n",
    "    score_log[\"log\"].append(f1_score(target_test, forecast_log1))\n",
    "    score_log[\"xgb\"].append(f1_score(target_test, forecast_log2))\n",
    "    score_log[\"rf\"].append(f1_score(target_test, forecast_log3))\n",
    "    score_log[\"lgb\"].append(f1_score(target_test, forecast_log4))\n",
    "    compt += 1\n",
    "    print(f\"{compt} fin\")"
   ]
  },
  {
   "cell_type": "code",
   "execution_count": 323,
   "metadata": {},
   "outputs": [],
   "source": [
    "score_df2 = pd.DataFrame()\n",
    "for key, value in score_log.items():\n",
    "    score_df2[key] = pd.DataFrame(value)\n",
    "score_df2[\"fold\"] = pd.DataFrame(range(1,21))\n",
    "score_df2.set_index(\"fold\", inplace=True)"
   ]
  },
  {
   "cell_type": "code",
   "execution_count": 324,
   "metadata": {},
   "outputs": [
    {
     "data": {
      "text/plain": [
       "<AxesSubplot:>"
      ]
     },
     "execution_count": 324,
     "metadata": {},
     "output_type": "execute_result"
    },
    {
     "data": {
      "image/png": "[encoded data removed]",
      "text/plain": [
       "<Figure size 360x360 with 1 Axes>"
      ]
     },
     "metadata": {
      "needs_background": "light"
     },
     "output_type": "display_data"
    }
   ],
   "source": [
    "score_df2.boxplot()"
   ]
  },
  {
   "cell_type": "markdown",
   "metadata": {},
   "source": [
    "### Tuning des modèles retenus"
   ]
  },
  {
   "cell_type": "markdown",
   "metadata": {},
   "source": [
    "##### Tuning Logistic Regression"
   ]
  },
  {
   "cell_type": "code",
   "execution_count": 14,
   "metadata": {},
   "outputs": [],
   "source": [
    "tuning_df = preprocessing_df(train_set)\n",
    "tuning_df = tuning_df.sample(21000)"
   ]
  },
  {
   "cell_type": "code",
   "execution_count": 15,
   "metadata": {},
   "outputs": [],
   "source": [
    "x_train, x_test, y_train, y_test=train_test_split(tuning_df.drop(\"Response\",axis=1),\n",
    "                                                  tuning_df[\"Response\"], shuffle=True)\n",
    "smote = SMOTE()\n",
    "x_train, y_train = smote.fit_resample(x_train, y_train)"
   ]
  },
  {
   "cell_type": "code",
   "execution_count": 62,
   "metadata": {},
   "outputs": [],
   "source": [
    "log_params = {\n",
    "    \"penalty\": [\"l1\", \"l2\"],\n",
    "    \"C\": np.logspace(-3, 3, 7),\n",
    "    \"solver\": [\"newton-cg\", \"lbfgs\", \"liblinear\"]\n",
    "}\n",
    "model_log = LogisticRegression()\n",
    "grid_search = GridSearchCV(model_log, log_params,\n",
    "                           scoring = \"f1\", cv=10)"
   ]
  },
  {
   "cell_type": "code",
   "execution_count": 63,
   "metadata": {
    "collapsed": true,
    "jupyter": {
     "outputs_hidden": true
    },
    "tags": []
   },
   "outputs": [
    {
     "name": "stderr",
     "output_type": "stream",
     "text": [
      "/home/koffie/anaconda3/lib/python3.9/site-packages/sklearn/model_selection/_validation.py:378: FitFailedWarning: \n",
      "140 fits failed out of a total of 420.\n",
      "The score on these train-test partitions for these parameters will be set to nan.\n",
      "If these failures are not expected, you can try to debug them by setting error_score='raise'.\n",
      "\n",
      "Below are more details about the failures:\n",
      "--------------------------------------------------------------------------------\n",
      "70 fits failed with the following error:\n",
      "Traceback (most recent call last):\n",
      "  File \"/home/koffie/anaconda3/lib/python3.9/site-packages/sklearn/model_selection/_validation.py\", line 686, in _fit_and_score\n",
      "    estimator.fit(X_train, y_train, **fit_params)\n",
      "  File \"/home/koffie/anaconda3/lib/python3.9/site-packages/sklearn/linear_model/_logistic.py\", line 1091, in fit\n",
      "    solver = _check_solver(self.solver, self.penalty, self.dual)\n",
      "  File \"/home/koffie/anaconda3/lib/python3.9/site-packages/sklearn/linear_model/_logistic.py\", line 61, in _check_solver\n",
      "    raise ValueError(\n",
      "ValueError: Solver newton-cg supports only 'l2' or 'none' penalties, got l1 penalty.\n",
      "\n",
      "--------------------------------------------------------------------------------\n",
      "70 fits failed with the following error:\n",
      "Traceback (most recent call last):\n",
      "  File \"/home/koffie/anaconda3/lib/python3.9/site-packages/sklearn/model_selection/_validation.py\", line 686, in _fit_and_score\n",
      "    estimator.fit(X_train, y_train, **fit_params)\n",
      "  File \"/home/koffie/anaconda3/lib/python3.9/site-packages/sklearn/linear_model/_logistic.py\", line 1091, in fit\n",
      "    solver = _check_solver(self.solver, self.penalty, self.dual)\n",
      "  File \"/home/koffie/anaconda3/lib/python3.9/site-packages/sklearn/linear_model/_logistic.py\", line 61, in _check_solver\n",
      "    raise ValueError(\n",
      "ValueError: Solver lbfgs supports only 'l2' or 'none' penalties, got l1 penalty.\n",
      "\n",
      "  warnings.warn(some_fits_failed_message, FitFailedWarning)\n",
      "/home/koffie/anaconda3/lib/python3.9/site-packages/sklearn/model_selection/_search.py:953: UserWarning: One or more of the test scores are non-finite: [       nan        nan 0.82053003 0.81048362 0.81048362 0.81173365\n",
      "        nan        nan 0.82051673 0.82149489 0.82149489 0.82135883\n",
      "        nan        nan 0.82315969 0.82244652 0.82241625 0.82226934\n",
      "        nan        nan 0.82178714 0.82164053 0.82164053 0.82164053\n",
      "        nan        nan 0.8218089  0.8218089  0.8218089  0.8218089\n",
      "        nan        nan 0.8218089  0.82176457 0.82176457 0.82176457\n",
      "        nan        nan 0.8218089  0.82176457 0.82176457 0.82176457]\n",
      "  warnings.warn(\n"
     ]
    },
    {
     "data": {
      "text/html": [
       "<style>#sk-container-id-2 {color: black;background-color: white;}#sk-container-id-2 pre{padding: 0;}#sk-container-id-2 div.sk-toggleable {background-color: white;}#sk-container-id-2 label.sk-toggleable__label {cursor: pointer;display: block;width: 100%;margin-bottom: 0;padding: 0.3em;box-sizing: border-box;text-align: center;}#sk-container-id-2 label.sk-toggleable__label-arrow:before {content: \"▸\";float: left;margin-right: 0.25em;color: #696969;}#sk-container-id-2 label.sk-toggleable__label-arrow:hover:before {color: black;}#sk-container-id-2 div.sk-estimator:hover label.sk-toggleable__label-arrow:before {color: black;}#sk-container-id-2 div.sk-toggleable__content {max-height: 0;max-width: 0;overflow: hidden;text-align: left;background-color: #f0f8ff;}#sk-container-id-2 div.sk-toggleable__content pre {margin: 0.2em;color: black;border-radius: 0.25em;background-color: #f0f8ff;}#sk-container-id-2 input.sk-toggleable__control:checked~div.sk-toggleable__content {max-height: 200px;max-width: 100%;overflow: auto;}#sk-container-id-2 input.sk-toggleable__control:checked~label.sk-toggleable__label-arrow:before {content: \"▾\";}#sk-container-id-2 div.sk-estimator input.sk-toggleable__control:checked~label.sk-toggleable__label {background-color: #d4ebff;}#sk-container-id-2 div.sk-label input.sk-toggleable__control:checked~label.sk-toggleable__label {background-color: #d4ebff;}#sk-container-id-2 input.sk-hidden--visually {border: 0;clip: rect(1px 1px 1px 1px);clip: rect(1px, 1px, 1px, 1px);height: 1px;margin: -1px;overflow: hidden;padding: 0;position: absolute;width: 1px;}#sk-container-id-2 div.sk-estimator {font-family: monospace;background-color: #f0f8ff;border: 1px dotted black;border-radius: 0.25em;box-sizing: border-box;margin-bottom: 0.5em;}#sk-container-id-2 div.sk-estimator:hover {background-color: #d4ebff;}#sk-container-id-2 div.sk-parallel-item::after {content: \"\";width: 100%;border-bottom: 1px solid gray;flex-grow: 1;}#sk-container-id-2 div.sk-label:hover label.sk-toggleable__label {background-color: #d4ebff;}#sk-container-id-2 div.sk-serial::before {content: \"\";position: absolute;border-left: 1px solid gray;box-sizing: border-box;top: 0;bottom: 0;left: 50%;z-index: 0;}#sk-container-id-2 div.sk-serial {display: flex;flex-direction: column;align-items: center;background-color: white;padding-right: 0.2em;padding-left: 0.2em;position: relative;}#sk-container-id-2 div.sk-item {position: relative;z-index: 1;}#sk-container-id-2 div.sk-parallel {display: flex;align-items: stretch;justify-content: center;background-color: white;position: relative;}#sk-container-id-2 div.sk-item::before, #sk-container-id-2 div.sk-parallel-item::before {content: \"\";position: absolute;border-left: 1px solid gray;box-sizing: border-box;top: 0;bottom: 0;left: 50%;z-index: -1;}#sk-container-id-2 div.sk-parallel-item {display: flex;flex-direction: column;z-index: 1;position: relative;background-color: white;}#sk-container-id-2 div.sk-parallel-item:first-child::after {align-self: flex-end;width: 50%;}#sk-container-id-2 div.sk-parallel-item:last-child::after {align-self: flex-start;width: 50%;}#sk-container-id-2 div.sk-parallel-item:only-child::after {width: 0;}#sk-container-id-2 div.sk-dashed-wrapped {border: 1px dashed gray;margin: 0 0.4em 0.5em 0.4em;box-sizing: border-box;padding-bottom: 0.4em;background-color: white;}#sk-container-id-2 div.sk-label label {font-family: monospace;font-weight: bold;display: inline-block;line-height: 1.2em;}#sk-container-id-2 div.sk-label-container {text-align: center;}#sk-container-id-2 div.sk-container {/* jupyter's `normalize.less` sets `[hidden] { display: none; }` but bootstrap.min.css set `[hidden] { display: none !important; }` so we also need the `!important` here to be able to override the default hidden behavior on the sphinx rendered scikit-learn.org. See: https://github.com/scikit-learn/scikit-learn/issues/21755 */display: inline-block !important;position: relative;}#sk-container-id-2 div.sk-text-repr-fallback {display: none;}</style><div id=\"sk-container-id-2\" class=\"sk-top-container\"><div class=\"sk-text-repr-fallback\"><pre>GridSearchCV(cv=10, estimator=LogisticRegression(),\n",
       "             param_grid={&#x27;C&#x27;: array([1.e-03, 1.e-02, 1.e-01, 1.e+00, 1.e+01, 1.e+02, 1.e+03]),\n",
       "                         &#x27;penalty&#x27;: [&#x27;l1&#x27;, &#x27;l2&#x27;],\n",
       "                         &#x27;solver&#x27;: [&#x27;newton-cg&#x27;, &#x27;lbfgs&#x27;, &#x27;liblinear&#x27;]},\n",
       "             scoring=&#x27;f1&#x27;)</pre><b>In a Jupyter environment, please rerun this cell to show the HTML representation or trust the notebook. <br />On GitHub, the HTML representation is unable to render, please try loading this page with nbviewer.org.</b></div><div class=\"sk-container\" hidden><div class=\"sk-item sk-dashed-wrapped\"><div class=\"sk-label-container\"><div class=\"sk-label sk-toggleable\"><input class=\"sk-toggleable__control sk-hidden--visually\" id=\"sk-estimator-id-4\" type=\"checkbox\" ><label for=\"sk-estimator-id-4\" class=\"sk-toggleable__label sk-toggleable__label-arrow\">GridSearchCV</label><div class=\"sk-toggleable__content\"><pre>GridSearchCV(cv=10, estimator=LogisticRegression(),\n",
       "             param_grid={&#x27;C&#x27;: array([1.e-03, 1.e-02, 1.e-01, 1.e+00, 1.e+01, 1.e+02, 1.e+03]),\n",
       "                         &#x27;penalty&#x27;: [&#x27;l1&#x27;, &#x27;l2&#x27;],\n",
       "                         &#x27;solver&#x27;: [&#x27;newton-cg&#x27;, &#x27;lbfgs&#x27;, &#x27;liblinear&#x27;]},\n",
       "             scoring=&#x27;f1&#x27;)</pre></div></div></div><div class=\"sk-parallel\"><div class=\"sk-parallel-item\"><div class=\"sk-item\"><div class=\"sk-label-container\"><div class=\"sk-label sk-toggleable\"><input class=\"sk-toggleable__control sk-hidden--visually\" id=\"sk-estimator-id-5\" type=\"checkbox\" ><label for=\"sk-estimator-id-5\" class=\"sk-toggleable__label sk-toggleable__label-arrow\">estimator: LogisticRegression</label><div class=\"sk-toggleable__content\"><pre>LogisticRegression()</pre></div></div></div><div class=\"sk-serial\"><div class=\"sk-item\"><div class=\"sk-estimator sk-toggleable\"><input class=\"sk-toggleable__control sk-hidden--visually\" id=\"sk-estimator-id-6\" type=\"checkbox\" ><label for=\"sk-estimator-id-6\" class=\"sk-toggleable__label sk-toggleable__label-arrow\">LogisticRegression</label><div class=\"sk-toggleable__content\"><pre>LogisticRegression()</pre></div></div></div></div></div></div></div></div></div></div>"
      ],
      "text/plain": [
       "GridSearchCV(cv=10, estimator=LogisticRegression(),\n",
       "             param_grid={'C': array([1.e-03, 1.e-02, 1.e-01, 1.e+00, 1.e+01, 1.e+02, 1.e+03]),\n",
       "                         'penalty': ['l1', 'l2'],\n",
       "                         'solver': ['newton-cg', 'lbfgs', 'liblinear']},\n",
       "             scoring='f1')"
      ]
     },
     "execution_count": 63,
     "metadata": {},
     "output_type": "execute_result"
    }
   ],
   "source": [
    "grid_search.fit(x_train, y_train)"
   ]
  },
  {
   "cell_type": "code",
   "execution_count": 120,
   "metadata": {},
   "outputs": [],
   "source": [
    "## Par suite les meilleurs paramètres de\n",
    "## la log regression sont :\n",
    "best_log = {'C': 0.1, 'penalty': 'l1', 'solver': 'liblinear'}"
   ]
  },
  {
   "cell_type": "code",
   "execution_count": 122,
   "metadata": {
    "collapsed": true,
    "jupyter": {
     "outputs_hidden": true
    },
    "tags": []
   },
   "outputs": [
    {
     "name": "stdout",
     "output_type": "stream",
     "text": [
      "1 debut\n",
      "log0 fin\n",
      "log1 fin\n",
      "2 fin\n",
      "2 debut\n",
      "log0 fin\n",
      "log1 fin\n",
      "3 fin\n",
      "3 debut\n",
      "log0 fin\n",
      "log1 fin\n",
      "4 fin\n",
      "4 debut\n",
      "log0 fin\n",
      "log1 fin\n",
      "5 fin\n",
      "5 debut\n",
      "log0 fin\n",
      "log1 fin\n",
      "6 fin\n",
      "6 debut\n",
      "log0 fin\n",
      "log1 fin\n",
      "7 fin\n",
      "7 debut\n",
      "log0 fin\n",
      "log1 fin\n",
      "8 fin\n",
      "8 debut\n",
      "log0 fin\n",
      "log1 fin\n",
      "9 fin\n",
      "9 debut\n",
      "log0 fin\n",
      "log1 fin\n",
      "10 fin\n",
      "10 debut\n",
      "log0 fin\n",
      "log1 fin\n",
      "11 fin\n",
      "11 debut\n",
      "log0 fin\n",
      "log1 fin\n",
      "12 fin\n",
      "12 debut\n",
      "log0 fin\n",
      "log1 fin\n",
      "13 fin\n",
      "13 debut\n",
      "log0 fin\n",
      "log1 fin\n",
      "14 fin\n",
      "14 debut\n",
      "log0 fin\n",
      "log1 fin\n",
      "15 fin\n",
      "15 debut\n",
      "log0 fin\n",
      "log1 fin\n",
      "16 fin\n",
      "16 debut\n",
      "log0 fin\n",
      "log1 fin\n",
      "17 fin\n",
      "17 debut\n",
      "log0 fin\n",
      "log1 fin\n",
      "18 fin\n",
      "18 debut\n",
      "log0 fin\n",
      "log1 fin\n",
      "19 fin\n",
      "19 debut\n",
      "log0 fin\n",
      "log1 fin\n",
      "20 fin\n",
      "20 debut\n",
      "log0 fin\n",
      "log1 fin\n",
      "21 fin\n"
     ]
    }
   ],
   "source": [
    "## Comparaison du modèle avec tuning et\n",
    "## du modèle de base\n",
    "model_log0 = LogisticRegression()\n",
    "model_log1 = LogisticRegression(**best_log)\n",
    "\n",
    "score_log = {}\n",
    "score_log[\"log0\"] = []\n",
    "score_log[\"log1\"] = []\n",
    "compt = 1\n",
    "for train, test in folds:\n",
    "    print(f\"{compt} debut\")\n",
    "\n",
    "    target_train, target_test = target.iloc[train], target.iloc[test]\n",
    "    features_train, features_test = features.iloc[train], features.iloc[test]\n",
    "\n",
    "    features_train, target_train = smote.fit_resample(features_train, target_train)\n",
    "    \n",
    "    model_log0.fit(features_train, target_train)\n",
    "    print(\"log0 fin\")\n",
    "    model_log1.fit(features_train, target_train)\n",
    "    print(\"log1 fin\")\n",
    "    \n",
    "    forecast_log1 = model_log0.predict(features_test,)\n",
    "    forecast_log2 = model_log1.predict(features_test,)\n",
    "    score_log[\"log0\"].append(f1_score(target_test, forecast_log1))\n",
    "    score_log[\"log1\"].append(f1_score(target_test, forecast_log2))\n",
    "    compt += 1\n",
    "    print(f\"{compt} fin\")"
   ]
  },
  {
   "cell_type": "code",
   "execution_count": 125,
   "metadata": {},
   "outputs": [
    {
     "data": {
      "text/plain": [
       "<AxesSubplot:>"
      ]
     },
     "execution_count": 125,
     "metadata": {},
     "output_type": "execute_result"
    },
    {
     "data": {
      "image/png": "[encoded data removed]",
      "text/plain": [
       "<Figure size 432x288 with 1 Axes>"
      ]
     },
     "metadata": {
      "needs_background": "light"
     },
     "output_type": "display_data"
    }
   ],
   "source": [
    "score_df2 = pd.DataFrame()\n",
    "for key, value in score_log.items():\n",
    "    score_df2[key] = pd.DataFrame(value)\n",
    "score_df2[\"fold\"] = pd.DataFrame(range(1,21))\n",
    "score_df2.set_index(\"fold\", inplace=True)\n",
    "score_df2.boxplot()"
   ]
  },
  {
   "cell_type": "markdown",
   "metadata": {},
   "source": [
    "##### Tuning Light Gradient Boosting"
   ]
  },
  {
   "cell_type": "code",
   "execution_count": 105,
   "metadata": {},
   "outputs": [],
   "source": [
    "lgbm_params = {\n",
    "    \"n_estimators\": [15],\n",
    "    \"colsample_bytree\": [.5],\n",
    "    \"max_depth\": [20],\n",
    "    \"num_leaves\": [400],\n",
    "    \"min_split_gain\":[.4],\n",
    "}\n",
    "model_lgb = lgb.LGBMClassifier()\n",
    "grid_lgb = GridSearchCV(model_lgb, lgbm_params,\n",
    "                        scoring=\"f1\", cv=3, verbose=True)"
   ]
  },
  {
   "cell_type": "code",
   "execution_count": 106,
   "metadata": {},
   "outputs": [
    {
     "name": "stdout",
     "output_type": "stream",
     "text": [
      "Fitting 3 folds for each of 2 candidates, totalling 6 fits\n"
     ]
    },
    {
     "data": {
      "text/html": [
       "<style>#sk-container-id-14 {color: black;background-color: white;}#sk-container-id-14 pre{padding: 0;}#sk-container-id-14 div.sk-toggleable {background-color: white;}#sk-container-id-14 label.sk-toggleable__label {cursor: pointer;display: block;width: 100%;margin-bottom: 0;padding: 0.3em;box-sizing: border-box;text-align: center;}#sk-container-id-14 label.sk-toggleable__label-arrow:before {content: \"▸\";float: left;margin-right: 0.25em;color: #696969;}#sk-container-id-14 label.sk-toggleable__label-arrow:hover:before {color: black;}#sk-container-id-14 div.sk-estimator:hover label.sk-toggleable__label-arrow:before {color: black;}#sk-container-id-14 div.sk-toggleable__content {max-height: 0;max-width: 0;overflow: hidden;text-align: left;background-color: #f0f8ff;}#sk-container-id-14 div.sk-toggleable__content pre {margin: 0.2em;color: black;border-radius: 0.25em;background-color: #f0f8ff;}#sk-container-id-14 input.sk-toggleable__control:checked~div.sk-toggleable__content {max-height: 200px;max-width: 100%;overflow: auto;}#sk-container-id-14 input.sk-toggleable__control:checked~label.sk-toggleable__label-arrow:before {content: \"▾\";}#sk-container-id-14 div.sk-estimator input.sk-toggleable__control:checked~label.sk-toggleable__label {background-color: #d4ebff;}#sk-container-id-14 div.sk-label input.sk-toggleable__control:checked~label.sk-toggleable__label {background-color: #d4ebff;}#sk-container-id-14 input.sk-hidden--visually {border: 0;clip: rect(1px 1px 1px 1px);clip: rect(1px, 1px, 1px, 1px);height: 1px;margin: -1px;overflow: hidden;padding: 0;position: absolute;width: 1px;}#sk-container-id-14 div.sk-estimator {font-family: monospace;background-color: #f0f8ff;border: 1px dotted black;border-radius: 0.25em;box-sizing: border-box;margin-bottom: 0.5em;}#sk-container-id-14 div.sk-estimator:hover {background-color: #d4ebff;}#sk-container-id-14 div.sk-parallel-item::after {content: \"\";width: 100%;border-bottom: 1px solid gray;flex-grow: 1;}#sk-container-id-14 div.sk-label:hover label.sk-toggleable__label {background-color: #d4ebff;}#sk-container-id-14 div.sk-serial::before {content: \"\";position: absolute;border-left: 1px solid gray;box-sizing: border-box;top: 0;bottom: 0;left: 50%;z-index: 0;}#sk-container-id-14 div.sk-serial {display: flex;flex-direction: column;align-items: center;background-color: white;padding-right: 0.2em;padding-left: 0.2em;position: relative;}#sk-container-id-14 div.sk-item {position: relative;z-index: 1;}#sk-container-id-14 div.sk-parallel {display: flex;align-items: stretch;justify-content: center;background-color: white;position: relative;}#sk-container-id-14 div.sk-item::before, #sk-container-id-14 div.sk-parallel-item::before {content: \"\";position: absolute;border-left: 1px solid gray;box-sizing: border-box;top: 0;bottom: 0;left: 50%;z-index: -1;}#sk-container-id-14 div.sk-parallel-item {display: flex;flex-direction: column;z-index: 1;position: relative;background-color: white;}#sk-container-id-14 div.sk-parallel-item:first-child::after {align-self: flex-end;width: 50%;}#sk-container-id-14 div.sk-parallel-item:last-child::after {align-self: flex-start;width: 50%;}#sk-container-id-14 div.sk-parallel-item:only-child::after {width: 0;}#sk-container-id-14 div.sk-dashed-wrapped {border: 1px dashed gray;margin: 0 0.4em 0.5em 0.4em;box-sizing: border-box;padding-bottom: 0.4em;background-color: white;}#sk-container-id-14 div.sk-label label {font-family: monospace;font-weight: bold;display: inline-block;line-height: 1.2em;}#sk-container-id-14 div.sk-label-container {text-align: center;}#sk-container-id-14 div.sk-container {/* jupyter's `normalize.less` sets `[hidden] { display: none; }` but bootstrap.min.css set `[hidden] { display: none !important; }` so we also need the `!important` here to be able to override the default hidden behavior on the sphinx rendered scikit-learn.org. See: https://github.com/scikit-learn/scikit-learn/issues/21755 */display: inline-block !important;position: relative;}#sk-container-id-14 div.sk-text-repr-fallback {display: none;}</style><div id=\"sk-container-id-14\" class=\"sk-top-container\"><div class=\"sk-text-repr-fallback\"><pre>GridSearchCV(cv=3, estimator=LGBMClassifier(),\n",
       "             param_grid={&#x27;colsample_bytree&#x27;: [0.5], &#x27;max_depth&#x27;: [20],\n",
       "                         &#x27;min_split_gain&#x27;: [0.4], &#x27;n_estimators&#x27;: [15, 16],\n",
       "                         &#x27;num_leaves&#x27;: [400]},\n",
       "             scoring=&#x27;f1&#x27;, verbose=True)</pre><b>In a Jupyter environment, please rerun this cell to show the HTML representation or trust the notebook. <br />On GitHub, the HTML representation is unable to render, please try loading this page with nbviewer.org.</b></div><div class=\"sk-container\" hidden><div class=\"sk-item sk-dashed-wrapped\"><div class=\"sk-label-container\"><div class=\"sk-label sk-toggleable\"><input class=\"sk-toggleable__control sk-hidden--visually\" id=\"sk-estimator-id-40\" type=\"checkbox\" ><label for=\"sk-estimator-id-40\" class=\"sk-toggleable__label sk-toggleable__label-arrow\">GridSearchCV</label><div class=\"sk-toggleable__content\"><pre>GridSearchCV(cv=3, estimator=LGBMClassifier(),\n",
       "             param_grid={&#x27;colsample_bytree&#x27;: [0.5], &#x27;max_depth&#x27;: [20],\n",
       "                         &#x27;min_split_gain&#x27;: [0.4], &#x27;n_estimators&#x27;: [15, 16],\n",
       "                         &#x27;num_leaves&#x27;: [400]},\n",
       "             scoring=&#x27;f1&#x27;, verbose=True)</pre></div></div></div><div class=\"sk-parallel\"><div class=\"sk-parallel-item\"><div class=\"sk-item\"><div class=\"sk-label-container\"><div class=\"sk-label sk-toggleable\"><input class=\"sk-toggleable__control sk-hidden--visually\" id=\"sk-estimator-id-41\" type=\"checkbox\" ><label for=\"sk-estimator-id-41\" class=\"sk-toggleable__label sk-toggleable__label-arrow\">estimator: LGBMClassifier</label><div class=\"sk-toggleable__content\"><pre>LGBMClassifier()</pre></div></div></div><div class=\"sk-serial\"><div class=\"sk-item\"><div class=\"sk-estimator sk-toggleable\"><input class=\"sk-toggleable__control sk-hidden--visually\" id=\"sk-estimator-id-42\" type=\"checkbox\" ><label for=\"sk-estimator-id-42\" class=\"sk-toggleable__label sk-toggleable__label-arrow\">LGBMClassifier</label><div class=\"sk-toggleable__content\"><pre>LGBMClassifier()</pre></div></div></div></div></div></div></div></div></div></div>"
      ],
      "text/plain": [
       "GridSearchCV(cv=3, estimator=LGBMClassifier(),\n",
       "             param_grid={'colsample_bytree': [0.5], 'max_depth': [20],\n",
       "                         'min_split_gain': [0.4], 'n_estimators': [15, 16],\n",
       "                         'num_leaves': [400]},\n",
       "             scoring='f1', verbose=True)"
      ]
     },
     "execution_count": 106,
     "metadata": {},
     "output_type": "execute_result"
    }
   ],
   "source": [
    "grid_lgb.fit(x_train, y_train)"
   ]
  },
  {
   "cell_type": "code",
   "execution_count": 104,
   "metadata": {},
   "outputs": [
    {
     "data": {
      "text/plain": [
       "{'colsample_bytree': 0.5,\n",
       " 'max_depth': 20,\n",
       " 'min_split_gain': 0.4,\n",
       " 'n_estimators': 15,\n",
       " 'num_leaves': 400}"
      ]
     },
     "execution_count": 104,
     "metadata": {},
     "output_type": "execute_result"
    }
   ],
   "source": [
    "grid_lgb.best_params_"
   ]
  },
  {
   "cell_type": "code",
   "execution_count": 126,
   "metadata": {},
   "outputs": [],
   "source": [
    "best_lgb = {'colsample_bytree': 0.5,\n",
    " 'max_depth': 20,\n",
    " 'min_split_gain': 0.4,\n",
    " 'n_estimators': 15,\n",
    " 'num_leaves': 400}"
   ]
  },
  {
   "cell_type": "code",
   "execution_count": 128,
   "metadata": {
    "collapsed": true,
    "jupyter": {
     "outputs_hidden": true
    },
    "tags": []
   },
   "outputs": [
    {
     "name": "stdout",
     "output_type": "stream",
     "text": [
      "1 debut\n",
      "lgb0 fin\n",
      "lgb1 fin\n",
      "2 fin\n",
      "2 debut\n",
      "lgb0 fin\n",
      "lgb1 fin\n",
      "3 fin\n",
      "3 debut\n",
      "lgb0 fin\n",
      "lgb1 fin\n",
      "4 fin\n",
      "4 debut\n",
      "lgb0 fin\n",
      "lgb1 fin\n",
      "5 fin\n",
      "5 debut\n",
      "lgb0 fin\n",
      "lgb1 fin\n",
      "6 fin\n",
      "6 debut\n",
      "lgb0 fin\n",
      "lgb1 fin\n",
      "7 fin\n",
      "7 debut\n",
      "lgb0 fin\n",
      "lgb1 fin\n",
      "8 fin\n",
      "8 debut\n",
      "lgb0 fin\n",
      "lgb1 fin\n",
      "9 fin\n",
      "9 debut\n",
      "lgb0 fin\n",
      "lgb1 fin\n",
      "10 fin\n",
      "10 debut\n",
      "lgb0 fin\n",
      "lgb1 fin\n",
      "11 fin\n",
      "11 debut\n",
      "lgb0 fin\n",
      "lgb1 fin\n",
      "12 fin\n",
      "12 debut\n",
      "lgb0 fin\n",
      "lgb1 fin\n",
      "13 fin\n",
      "13 debut\n",
      "lgb0 fin\n",
      "lgb1 fin\n",
      "14 fin\n",
      "14 debut\n",
      "lgb0 fin\n",
      "lgb1 fin\n",
      "15 fin\n",
      "15 debut\n",
      "lgb0 fin\n",
      "lgb1 fin\n",
      "16 fin\n",
      "16 debut\n",
      "lgb0 fin\n",
      "lgb1 fin\n",
      "17 fin\n",
      "17 debut\n",
      "lgb0 fin\n",
      "lgb1 fin\n",
      "18 fin\n",
      "18 debut\n",
      "lgb0 fin\n",
      "lgb1 fin\n",
      "19 fin\n",
      "19 debut\n",
      "lgb0 fin\n",
      "lgb1 fin\n",
      "20 fin\n",
      "20 debut\n",
      "lgb0 fin\n",
      "lgb1 fin\n",
      "21 fin\n"
     ]
    }
   ],
   "source": [
    "## Comparaison du modèle retenu au \n",
    "## modèle sans tuning\n",
    "## Comparaison du modèle avec tuning et\n",
    "## du modèle de base\n",
    "model_lgb0 = lgb.LGBMClassifier()\n",
    "model_lgb1 = lgb.LGBMClassifier(**best_lgb)\n",
    "\n",
    "score_log = {}\n",
    "score_log[\"lgb0\"] = []\n",
    "score_log[\"lgb1\"] = []\n",
    "compt = 1\n",
    "for train, test in folds:\n",
    "    print(f\"{compt} debut\")\n",
    "\n",
    "    target_train, target_test = target.iloc[train], target.iloc[test]\n",
    "    features_train, features_test = features.iloc[train], features.iloc[test]\n",
    "\n",
    "    features_train, target_train = smote.fit_resample(features_train, target_train)\n",
    "    \n",
    "    model_lgb0.fit(features_train, target_train)\n",
    "    print(\"lgb0 fin\")\n",
    "    model_lgb1.fit(features_train, target_train)\n",
    "    print(\"lgb1 fin\")\n",
    "    \n",
    "    forecast_log1 = model_lgb0.predict(features_test,)\n",
    "    forecast_log2 = model_lgb1.predict(features_test,)\n",
    "    score_log[\"lgb0\"].append(f1_score(target_test, forecast_log1))\n",
    "    score_log[\"lgb1\"].append(f1_score(target_test, forecast_log2))\n",
    "    compt += 1\n",
    "    print(f\"{compt} fin\")"
   ]
  },
  {
   "cell_type": "code",
   "execution_count": 129,
   "metadata": {},
   "outputs": [
    {
     "data": {
      "text/plain": [
       "<AxesSubplot:>"
      ]
     },
     "execution_count": 129,
     "metadata": {},
     "output_type": "execute_result"
    },
    {
     "data": {
      "image/png": "[encoded data removed]",
      "text/plain": [
       "<Figure size 432x288 with 1 Axes>"
      ]
     },
     "metadata": {
      "needs_background": "light"
     },
     "output_type": "display_data"
    }
   ],
   "source": [
    "score_df2 = pd.DataFrame()\n",
    "for key, value in score_log.items():\n",
    "    score_df2[key] = pd.DataFrame(value)\n",
    "score_df2[\"fold\"] = pd.DataFrame(range(1,21))\n",
    "score_df2.set_index(\"fold\", inplace=True)\n",
    "score_df2.boxplot()"
   ]
  },
  {
   "cell_type": "markdown",
   "metadata": {},
   "source": [
    "#### Combinaison des modèles"
   ]
  },
  {
   "cell_type": "code",
   "execution_count": 137,
   "metadata": {},
   "outputs": [],
   "source": [
    "## Combinaison par stacking\n",
    "from sklearn.ensemble import StackingClassifier\n",
    "\n",
    "model_log1, model_log = (LogisticRegression(),)*2\n",
    "model_lgb1, model_lgb = (lgb.LGBMClassifier(),)*2\n",
    "estimators = [(\"lgbm\",model_lgb1),(\"logistic\", model_log1)]\n",
    "stacking = StackingClassifier(estimators = estimators)"
   ]
  },
  {
   "cell_type": "code",
   "execution_count": 138,
   "metadata": {
    "collapsed": true,
    "jupyter": {
     "outputs_hidden": true
    },
    "tags": []
   },
   "outputs": [
    {
     "name": "stdout",
     "output_type": "stream",
     "text": [
      "1 debut\n",
      "log fin\n",
      "lgb fin\n",
      "stack fin\n",
      "2 fin\n",
      "2 debut\n",
      "log fin\n",
      "lgb fin\n",
      "stack fin\n",
      "3 fin\n",
      "3 debut\n",
      "log fin\n",
      "lgb fin\n",
      "stack fin\n",
      "4 fin\n",
      "4 debut\n",
      "log fin\n",
      "lgb fin\n",
      "stack fin\n",
      "5 fin\n",
      "5 debut\n",
      "log fin\n",
      "lgb fin\n",
      "stack fin\n",
      "6 fin\n",
      "6 debut\n",
      "log fin\n",
      "lgb fin\n",
      "stack fin\n",
      "7 fin\n",
      "7 debut\n",
      "log fin\n",
      "lgb fin\n",
      "stack fin\n",
      "8 fin\n",
      "8 debut\n",
      "log fin\n",
      "lgb fin\n",
      "stack fin\n",
      "9 fin\n",
      "9 debut\n",
      "log fin\n",
      "lgb fin\n",
      "stack fin\n",
      "10 fin\n",
      "10 debut\n",
      "log fin\n",
      "lgb fin\n",
      "stack fin\n",
      "11 fin\n",
      "11 debut\n",
      "log fin\n",
      "lgb fin\n",
      "stack fin\n",
      "12 fin\n",
      "12 debut\n",
      "log fin\n",
      "lgb fin\n",
      "stack fin\n",
      "13 fin\n",
      "13 debut\n",
      "log fin\n",
      "lgb fin\n",
      "stack fin\n",
      "14 fin\n",
      "14 debut\n",
      "log fin\n",
      "lgb fin\n",
      "stack fin\n",
      "15 fin\n",
      "15 debut\n",
      "log fin\n",
      "lgb fin\n",
      "stack fin\n",
      "16 fin\n",
      "16 debut\n",
      "log fin\n",
      "lgb fin\n",
      "stack fin\n",
      "17 fin\n",
      "17 debut\n",
      "log fin\n",
      "lgb fin\n",
      "stack fin\n",
      "18 fin\n",
      "18 debut\n",
      "log fin\n",
      "lgb fin\n",
      "stack fin\n",
      "19 fin\n",
      "19 debut\n",
      "log fin\n",
      "lgb fin\n",
      "stack fin\n",
      "20 fin\n",
      "20 debut\n",
      "log fin\n",
      "lgb fin\n",
      "stack fin\n",
      "21 fin\n"
     ]
    }
   ],
   "source": [
    "## Training stacking classifier\n",
    "score_log = {}\n",
    "score_log[\"log\"] = []\n",
    "score_log[\"lgb\"] = []\n",
    "score_log[\"stack\"] = []\n",
    "compt = 1\n",
    "for train, test in folds:\n",
    "    print(f\"{compt} debut\")\n",
    "\n",
    "    target_train, target_test = target.iloc[train], target.iloc[test]\n",
    "    features_train, features_test = features.iloc[train], features.iloc[test]\n",
    "\n",
    "    features_train, target_train = smote.fit_resample(features_train, target_train)\n",
    "    \n",
    "    model_log.fit(features_train, target_train)\n",
    "    print(\"log fin\")\n",
    "    model_lgb.fit(features_train, target_train)\n",
    "    print(\"lgb fin\")\n",
    "    stacking.fit(features_train, target_train)\n",
    "    print(\"stack fin\")\n",
    "    \n",
    "    forecast_log1 = model_log.predict(features_test,)\n",
    "    forecast_log2 = model_lgb.predict(features_test,)\n",
    "    forecast_log3 = stacking.predict(features_test,)\n",
    "    score_log[\"log\"].append(f1_score(target_test, forecast_log1))\n",
    "    score_log[\"lgb\"].append(f1_score(target_test, forecast_log2))\n",
    "    score_log[\"stack\"].append(f1_score(target_test, forecast_log3))\n",
    "    compt += 1\n",
    "    print(f\"{compt} fin\")\n"
   ]
  },
  {
   "cell_type": "code",
   "execution_count": 139,
   "metadata": {},
   "outputs": [
    {
     "data": {
      "text/plain": [
       "<AxesSubplot:>"
      ]
     },
     "execution_count": 139,
     "metadata": {},
     "output_type": "execute_result"
    },
    {
     "data": {
      "image/png": "[encoded data removed]",
      "text/plain": [
       "<Figure size 432x288 with 1 Axes>"
      ]
     },
     "metadata": {
      "needs_background": "light"
     },
     "output_type": "display_data"
    }
   ],
   "source": [
    "score_df2 = pd.DataFrame()\n",
    "for key, value in score_log.items():\n",
    "    score_df2[key] = pd.DataFrame(value)\n",
    "score_df2[\"fold\"] = pd.DataFrame(range(1,21))\n",
    "score_df2.set_index(\"fold\", inplace=True)\n",
    "score_df2.boxplot()"
   ]
  },
  {
   "cell_type": "markdown",
   "metadata": {},
   "source": [
    "#### Compréhension du modèle choisi"
   ]
  },
  {
   "cell_type": "code",
   "execution_count": 16,
   "metadata": {},
   "outputs": [
    {
     "data": {
      "text/html": [
       "<style>#sk-container-id-1 {color: black;background-color: white;}#sk-container-id-1 pre{padding: 0;}#sk-container-id-1 div.sk-toggleable {background-color: white;}#sk-container-id-1 label.sk-toggleable__label {cursor: pointer;display: block;width: 100%;margin-bottom: 0;padding: 0.3em;box-sizing: border-box;text-align: center;}#sk-container-id-1 label.sk-toggleable__label-arrow:before {content: \"▸\";float: left;margin-right: 0.25em;color: #696969;}#sk-container-id-1 label.sk-toggleable__label-arrow:hover:before {color: black;}#sk-container-id-1 div.sk-estimator:hover label.sk-toggleable__label-arrow:before {color: black;}#sk-container-id-1 div.sk-toggleable__content {max-height: 0;max-width: 0;overflow: hidden;text-align: left;background-color: #f0f8ff;}#sk-container-id-1 div.sk-toggleable__content pre {margin: 0.2em;color: black;border-radius: 0.25em;background-color: #f0f8ff;}#sk-container-id-1 input.sk-toggleable__control:checked~div.sk-toggleable__content {max-height: 200px;max-width: 100%;overflow: auto;}#sk-container-id-1 input.sk-toggleable__control:checked~label.sk-toggleable__label-arrow:before {content: \"▾\";}#sk-container-id-1 div.sk-estimator input.sk-toggleable__control:checked~label.sk-toggleable__label {background-color: #d4ebff;}#sk-container-id-1 div.sk-label input.sk-toggleable__control:checked~label.sk-toggleable__label {background-color: #d4ebff;}#sk-container-id-1 input.sk-hidden--visually {border: 0;clip: rect(1px 1px 1px 1px);clip: rect(1px, 1px, 1px, 1px);height: 1px;margin: -1px;overflow: hidden;padding: 0;position: absolute;width: 1px;}#sk-container-id-1 div.sk-estimator {font-family: monospace;background-color: #f0f8ff;border: 1px dotted black;border-radius: 0.25em;box-sizing: border-box;margin-bottom: 0.5em;}#sk-container-id-1 div.sk-estimator:hover {background-color: #d4ebff;}#sk-container-id-1 div.sk-parallel-item::after {content: \"\";width: 100%;border-bottom: 1px solid gray;flex-grow: 1;}#sk-container-id-1 div.sk-label:hover label.sk-toggleable__label {background-color: #d4ebff;}#sk-container-id-1 div.sk-serial::before {content: \"\";position: absolute;border-left: 1px solid gray;box-sizing: border-box;top: 0;bottom: 0;left: 50%;z-index: 0;}#sk-container-id-1 div.sk-serial {display: flex;flex-direction: column;align-items: center;background-color: white;padding-right: 0.2em;padding-left: 0.2em;position: relative;}#sk-container-id-1 div.sk-item {position: relative;z-index: 1;}#sk-container-id-1 div.sk-parallel {display: flex;align-items: stretch;justify-content: center;background-color: white;position: relative;}#sk-container-id-1 div.sk-item::before, #sk-container-id-1 div.sk-parallel-item::before {content: \"\";position: absolute;border-left: 1px solid gray;box-sizing: border-box;top: 0;bottom: 0;left: 50%;z-index: -1;}#sk-container-id-1 div.sk-parallel-item {display: flex;flex-direction: column;z-index: 1;position: relative;background-color: white;}#sk-container-id-1 div.sk-parallel-item:first-child::after {align-self: flex-end;width: 50%;}#sk-container-id-1 div.sk-parallel-item:last-child::after {align-self: flex-start;width: 50%;}#sk-container-id-1 div.sk-parallel-item:only-child::after {width: 0;}#sk-container-id-1 div.sk-dashed-wrapped {border: 1px dashed gray;margin: 0 0.4em 0.5em 0.4em;box-sizing: border-box;padding-bottom: 0.4em;background-color: white;}#sk-container-id-1 div.sk-label label {font-family: monospace;font-weight: bold;display: inline-block;line-height: 1.2em;}#sk-container-id-1 div.sk-label-container {text-align: center;}#sk-container-id-1 div.sk-container {/* jupyter's `normalize.less` sets `[hidden] { display: none; }` but bootstrap.min.css set `[hidden] { display: none !important; }` so we also need the `!important` here to be able to override the default hidden behavior on the sphinx rendered scikit-learn.org. See: https://github.com/scikit-learn/scikit-learn/issues/21755 */display: inline-block !important;position: relative;}#sk-container-id-1 div.sk-text-repr-fallback {display: none;}</style><div id=\"sk-container-id-1\" class=\"sk-top-container\"><div class=\"sk-text-repr-fallback\"><pre>LGBMClassifier()</pre><b>In a Jupyter environment, please rerun this cell to show the HTML representation or trust the notebook. <br />On GitHub, the HTML representation is unable to render, please try loading this page with nbviewer.org.</b></div><div class=\"sk-container\" hidden><div class=\"sk-item\"><div class=\"sk-estimator sk-toggleable\"><input class=\"sk-toggleable__control sk-hidden--visually\" id=\"sk-estimator-id-1\" type=\"checkbox\" checked><label for=\"sk-estimator-id-1\" class=\"sk-toggleable__label sk-toggleable__label-arrow\">LGBMClassifier</label><div class=\"sk-toggleable__content\"><pre>LGBMClassifier()</pre></div></div></div></div></div>"
      ],
      "text/plain": [
       "LGBMClassifier()"
      ]
     },
     "execution_count": 16,
     "metadata": {},
     "output_type": "execute_result"
    }
   ],
   "source": [
    "## Pour la suite, nous choisissons le modèle\n",
    "## de Light Gradient Boosting auquel nous appliquerons\n",
    "## les méthodes agnostic afin de mieux comprendre son\n",
    "## fonctionnement\n",
    "model_lgb = lgb.LGBMClassifier()\n",
    "model_lgb.fit(x_train, y_train)"
   ]
  },
  {
   "cell_type": "code",
   "execution_count": 17,
   "metadata": {},
   "outputs": [
    {
     "data": {
      "text/plain": [
       "<sklearn.inspection._plot.partial_dependence.PartialDependenceDisplay at 0x7f3bf6692d90>"
      ]
     },
     "execution_count": 17,
     "metadata": {},
     "output_type": "execute_result"
    },
    {
     "data": {
      "image/png": "[encoded data removed]",
      "text/plain": [
       "<Figure size 432x288 with 4 Axes>"
      ]
     },
     "metadata": {
      "needs_background": "light"
     },
     "output_type": "display_data"
    }
   ],
   "source": [
    "## Partial dependent plot pour les trois variables\n",
    "## les plus importante dans le modèle lightGBM\n",
    "from sklearn.inspection import PartialDependenceDisplay\n",
    "features = (\"Age\", \"Annual_Premium\", \"Vintage\")\n",
    "PartialDependenceDisplay.from_estimator(model_lgb, x_test, features)"
   ]
  },
  {
   "cell_type": "code",
   "execution_count": 18,
   "metadata": {},
   "outputs": [
    {
     "name": "stderr",
     "output_type": "stream",
     "text": [
      "Permutation explainer: 5251it [15:46,  5.51it/s]                          \n",
      "Permutation explainer: 5251it [08:01, 10.61it/s]                          \n"
     ]
    }
   ],
   "source": [
    "import shap\n",
    "\n",
    "explainer = shap.Explainer(model_lgb.predict, x_test)\n",
    "shap_value = explainer(x_test)\n",
    "shap_values = explainer.shap_values(x_test)"
   ]
  },
  {
   "cell_type": "code",
   "execution_count": 21,
   "metadata": {},
   "outputs": [
    {
     "data": {
      "image/png": "[encoded data removed]",
      "text/plain": [
       "<Figure size 576x468 with 1 Axes>"
      ]
     },
     "metadata": {},
     "output_type": "display_data"
    }
   ],
   "source": [
    "shap.plots.bar(shap_value)"
   ]
  },
  {
   "cell_type": "code",
   "execution_count": 22,
   "metadata": {},
   "outputs": [
    {
     "data": {
      "image/png": "[encoded data removed]",
      "text/plain": [
       "<Figure size 576x396 with 2 Axes>"
      ]
     },
     "metadata": {
      "needs_background": "light"
     },
     "output_type": "display_data"
    }
   ],
   "source": [
    "shap.plots.beeswarm(shap_value)"
   ]
  },
  {
   "cell_type": "code",
   "execution_count": 23,
   "metadata": {},
   "outputs": [
    {
     "data": {
      "image/png": "[encoded data removed]",
      "text/plain": [
       "<Figure size 576x468 with 1 Axes>"
      ]
     },
     "metadata": {},
     "output_type": "display_data"
    }
   ],
   "source": [
    "shap.plots.bar(shap_value[0])"
   ]
  },
  {
   "cell_type": "markdown",
   "metadata": {},
   "source": [
    "### Entrainement final du modèle"
   ]
  },
  {
   "cell_type": "code",
   "execution_count": 24,
   "metadata": {},
   "outputs": [],
   "source": [
    "smote = SMOTE()\n",
    "df = preprocessing_df(train_set)\n",
    "x_train = df.drop(\"Response\", axis=1)\n",
    "y_train = df[\"Response\"]\n",
    "x_train, y_train = smote.fit_resample(x_train, y_train)"
   ]
  },
  {
   "cell_type": "code",
   "execution_count": 25,
   "metadata": {},
   "outputs": [
    {
     "data": {
      "text/html": [
       "<style>#sk-container-id-2 {color: black;background-color: white;}#sk-container-id-2 pre{padding: 0;}#sk-container-id-2 div.sk-toggleable {background-color: white;}#sk-container-id-2 label.sk-toggleable__label {cursor: pointer;display: block;width: 100%;margin-bottom: 0;padding: 0.3em;box-sizing: border-box;text-align: center;}#sk-container-id-2 label.sk-toggleable__label-arrow:before {content: \"▸\";float: left;margin-right: 0.25em;color: #696969;}#sk-container-id-2 label.sk-toggleable__label-arrow:hover:before {color: black;}#sk-container-id-2 div.sk-estimator:hover label.sk-toggleable__label-arrow:before {color: black;}#sk-container-id-2 div.sk-toggleable__content {max-height: 0;max-width: 0;overflow: hidden;text-align: left;background-color: #f0f8ff;}#sk-container-id-2 div.sk-toggleable__content pre {margin: 0.2em;color: black;border-radius: 0.25em;background-color: #f0f8ff;}#sk-container-id-2 input.sk-toggleable__control:checked~div.sk-toggleable__content {max-height: 200px;max-width: 100%;overflow: auto;}#sk-container-id-2 input.sk-toggleable__control:checked~label.sk-toggleable__label-arrow:before {content: \"▾\";}#sk-container-id-2 div.sk-estimator input.sk-toggleable__control:checked~label.sk-toggleable__label {background-color: #d4ebff;}#sk-container-id-2 div.sk-label input.sk-toggleable__control:checked~label.sk-toggleable__label {background-color: #d4ebff;}#sk-container-id-2 input.sk-hidden--visually {border: 0;clip: rect(1px 1px 1px 1px);clip: rect(1px, 1px, 1px, 1px);height: 1px;margin: -1px;overflow: hidden;padding: 0;position: absolute;width: 1px;}#sk-container-id-2 div.sk-estimator {font-family: monospace;background-color: #f0f8ff;border: 1px dotted black;border-radius: 0.25em;box-sizing: border-box;margin-bottom: 0.5em;}#sk-container-id-2 div.sk-estimator:hover {background-color: #d4ebff;}#sk-container-id-2 div.sk-parallel-item::after {content: \"\";width: 100%;border-bottom: 1px solid gray;flex-grow: 1;}#sk-container-id-2 div.sk-label:hover label.sk-toggleable__label {background-color: #d4ebff;}#sk-container-id-2 div.sk-serial::before {content: \"\";position: absolute;border-left: 1px solid gray;box-sizing: border-box;top: 0;bottom: 0;left: 50%;z-index: 0;}#sk-container-id-2 div.sk-serial {display: flex;flex-direction: column;align-items: center;background-color: white;padding-right: 0.2em;padding-left: 0.2em;position: relative;}#sk-container-id-2 div.sk-item {position: relative;z-index: 1;}#sk-container-id-2 div.sk-parallel {display: flex;align-items: stretch;justify-content: center;background-color: white;position: relative;}#sk-container-id-2 div.sk-item::before, #sk-container-id-2 div.sk-parallel-item::before {content: \"\";position: absolute;border-left: 1px solid gray;box-sizing: border-box;top: 0;bottom: 0;left: 50%;z-index: -1;}#sk-container-id-2 div.sk-parallel-item {display: flex;flex-direction: column;z-index: 1;position: relative;background-color: white;}#sk-container-id-2 div.sk-parallel-item:first-child::after {align-self: flex-end;width: 50%;}#sk-container-id-2 div.sk-parallel-item:last-child::after {align-self: flex-start;width: 50%;}#sk-container-id-2 div.sk-parallel-item:only-child::after {width: 0;}#sk-container-id-2 div.sk-dashed-wrapped {border: 1px dashed gray;margin: 0 0.4em 0.5em 0.4em;box-sizing: border-box;padding-bottom: 0.4em;background-color: white;}#sk-container-id-2 div.sk-label label {font-family: monospace;font-weight: bold;display: inline-block;line-height: 1.2em;}#sk-container-id-2 div.sk-label-container {text-align: center;}#sk-container-id-2 div.sk-container {/* jupyter's `normalize.less` sets `[hidden] { display: none; }` but bootstrap.min.css set `[hidden] { display: none !important; }` so we also need the `!important` here to be able to override the default hidden behavior on the sphinx rendered scikit-learn.org. See: https://github.com/scikit-learn/scikit-learn/issues/21755 */display: inline-block !important;position: relative;}#sk-container-id-2 div.sk-text-repr-fallback {display: none;}</style><div id=\"sk-container-id-2\" class=\"sk-top-container\"><div class=\"sk-text-repr-fallback\"><pre>LGBMClassifier()</pre><b>In a Jupyter environment, please rerun this cell to show the HTML representation or trust the notebook. <br />On GitHub, the HTML representation is unable to render, please try loading this page with nbviewer.org.</b></div><div class=\"sk-container\" hidden><div class=\"sk-item\"><div class=\"sk-estimator sk-toggleable\"><input class=\"sk-toggleable__control sk-hidden--visually\" id=\"sk-estimator-id-2\" type=\"checkbox\" checked><label for=\"sk-estimator-id-2\" class=\"sk-toggleable__label sk-toggleable__label-arrow\">LGBMClassifier</label><div class=\"sk-toggleable__content\"><pre>LGBMClassifier()</pre></div></div></div></div></div>"
      ],
      "text/plain": [
       "LGBMClassifier()"
      ]
     },
     "execution_count": 25,
     "metadata": {},
     "output_type": "execute_result"
    }
   ],
   "source": [
    "model_lgb = lgb.LGBMClassifier()\n",
    "model_lgb.fit(x_train, y_train)"
   ]
  },
  {
   "cell_type": "code",
   "execution_count": 26,
   "metadata": {},
   "outputs": [
    {
     "data": {
      "text/plain": [
       "['./model_lgb.sav']"
      ]
     },
     "execution_count": 26,
     "metadata": {},
     "output_type": "execute_result"
    }
   ],
   "source": [
    "import joblib\n",
    "path = \"./model_lgb.sav\"\n",
    "joblib.dump(model_lgb, path)"
   ]
  }
 ],
 "metadata": {
  "interpreter": {
   "hash": "303a7d9c671706c76ba8ec02a3e053a93bac81fa7a558e1ab6b33f169b66c257"
  },
  "kernelspec": {
   "display_name": "Python 3 (ipykernel)",
   "language": "python",
   "name": "python3"
  },
  "language_info": {
   "codemirror_mode": {
    "name": "ipython",
    "version": 3
   },
   "file_extension": ".py",
   "mimetype": "text/x-python",
   "name": "python",
   "nbconvert_exporter": "python",
   "pygments_lexer": "ipython3",
   "version": "3.9.7"
  }
 },
 "nbformat": 4,
 "nbformat_minor": 4
}
